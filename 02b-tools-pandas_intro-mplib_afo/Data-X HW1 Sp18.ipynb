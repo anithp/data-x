{
 "cells": [
  {
   "cell_type": "markdown",
   "metadata": {},
   "source": [
    "# Homework 1"
   ]
  },
  {
   "cell_type": "markdown",
   "metadata": {},
   "source": [
    "In this homework, you will get a chance to do some exercises with Numpy, Pandas, and Matplotlib to show us your understanding with this libraries. \n",
    "\n",
    "If you have questions, Google! Additionally you can ask your peers questions on Piazza and/or go to Office Hours.\n",
    "\n",
    "This homework is due **Thursday Feb. 8th, 2018 at 11:59 PM**. Please upload your .ipynb to your private repo on Github. Additionally, submit a pdf on bCourses and in the comment section include a link to your private repo.\n",
    "\n",
    "This homework is long, please start early!"
   ]
  },
  {
   "cell_type": "code",
   "execution_count": 8,
   "metadata": {
    "collapsed": true
   },
   "outputs": [],
   "source": [
    "import numpy as np\n",
    "import pandas as pd\n",
    "import matplotlib.pyplot as plt\n",
    "%matplotlib inline"
   ]
  },
  {
   "cell_type": "markdown",
   "metadata": {},
   "source": [
    "## NumPy Basics"
   ]
  },
  {
   "cell_type": "markdown",
   "metadata": {},
   "source": [
    "Create two numpy arrays (`a` and `b`). `a` should be all integers between 10-19 (inclusive), and `b` should be ten evenly spaced numbers between 1-7. Print the results below."
   ]
  },
  {
   "cell_type": "code",
   "execution_count": 9,
   "metadata": {
    "collapsed": false
   },
   "outputs": [
    {
     "name": "stdout",
     "output_type": "stream",
     "text": [
      "a:  [10 11 12 13 14 15 16 17 18 19]\n",
      "b:  [ 1.   1.6  2.2  2.8  3.4  4.   4.6  5.2  5.8  6.4]\n"
     ]
    }
   ],
   "source": [
    "a = np.arange(10, 20, 1)  #arange function to get numbers between 10 and 20\n",
    "b = np.linspace(1.0, 7.0, num = 10, endpoint = False)  #for spacing equally\n",
    "\n",
    "print(\"a: \", a)\n",
    "print(\"b: \", b)"
   ]
  },
  {
   "cell_type": "markdown",
   "metadata": {},
   "source": [
    "For `a` and `b` above do the follow and print out the results.\n",
    "\n",
    "1. Square all the elements in both arrays (element-wise).  \n",
    "2. Add both the squared arrays (e.g. [1,2] + [3,4] = [4,6]).  \n",
    "3. Sum the elements with even indices of the added array.  \n",
    "4. Take the square root of the added array (element-wise square root)."
   ]
  },
  {
   "cell_type": "code",
   "execution_count": 10,
   "metadata": {
    "collapsed": false
   },
   "outputs": [
    {
     "name": "stdout",
     "output_type": "stream",
     "text": [
      "1.  [100 121 144 169 196 225 256 289 324 361] [  1.     2.56   4.84   7.84  11.56  16.    21.16  27.04  33.64  40.96]\n",
      "2.  [ 101.    123.56  148.84  176.84  207.56  241.    277.16  316.04  357.64\n",
      "  401.96]\n",
      "3.  1259.4\n",
      "4.  [ 10.04987562  11.11575459  12.2         13.29812017  14.40694277\n",
      "  15.5241747   16.64812302  17.77751389  18.91137224  20.04894012]\n"
     ]
    }
   ],
   "source": [
    "print(\"1. \", a**2, b**2)  #printing square of all elements \n",
    "print(\"2. \", (a**2)+(b**2)) #summation of those elements\n",
    "suma = 0\n",
    "c = (a**2)+(b**2)    \n",
    "for i in range(10):      #summing the elements with even indices\n",
    "    if i%2 != 0:\n",
    "        suma = suma + c[i]\n",
    "print(\"3. \",suma)\n",
    "print(\"4. \",np.sqrt(c))  #using np sqrt function "
   ]
  },
  {
   "cell_type": "markdown",
   "metadata": {},
   "source": [
    "Append `b` to `a`. Reshape the appended array so that it is a 5x4, 2D-array and store the results in a variable called `m`. Print `m`."
   ]
  },
  {
   "cell_type": "code",
   "execution_count": 11,
   "metadata": {
    "collapsed": false
   },
   "outputs": [
    {
     "name": "stdout",
     "output_type": "stream",
     "text": [
      "m:  [[ 10.   11.   12.   13. ]\n",
      " [ 14.   15.   16.   17. ]\n",
      " [ 18.   19.    1.    1.6]\n",
      " [  2.2   2.8   3.4   4. ]\n",
      " [  4.6   5.2   5.8   6.4]]\n"
     ]
    }
   ],
   "source": [
    "a = np.append(a, b)   #appending b in a\n",
    "m = np.reshape(a, (5, 4))   #reshaping the array to 5X4\n",
    "\n",
    "print(\"m: \", m)"
   ]
  },
  {
   "cell_type": "markdown",
   "metadata": {},
   "source": [
    "Extract the second and the third column of the matrix `m`. Store the resulting 5x2 matrix in a new variable called `m2`. Print `m2`."
   ]
  },
  {
   "cell_type": "code",
   "execution_count": 12,
   "metadata": {
    "collapsed": false
   },
   "outputs": [
    {
     "name": "stdout",
     "output_type": "stream",
     "text": [
      "m2:  [[ 11.   12. ]\n",
      " [ 15.   16. ]\n",
      " [ 19.    1. ]\n",
      " [  2.8   3.4]\n",
      " [  5.2   5.8]]\n"
     ]
    }
   ],
   "source": [
    "m2 = m[:, 1:3]  #slicing the m2 to extract the second and third column\n",
    "\n",
    "print(\"m2: \", m2)"
   ]
  },
  {
   "cell_type": "markdown",
   "metadata": {},
   "source": [
    "Take the dot product of `m2` and `m` store the results in a matrix called `m3`. Print `m3`.\n",
    "Note that dot product of two matrices $A\\cdot B = A^T B$"
   ]
  },
  {
   "cell_type": "code",
   "execution_count": 15,
   "metadata": {
    "collapsed": false
   },
   "outputs": [
    {
     "name": "stdout",
     "output_type": "stream",
     "text": [
      "m3:  [[ 692.08  741.88  430.68  472.88]\n",
      " [ 396.16  430.68  446.2   480.32]]\n"
     ]
    }
   ],
   "source": [
    "m3 = np.dot(np.transpose(m2), m)  #taking the dot product of the A and B\n",
    "\n",
    "print(\"m3: \", m3)"
   ]
  },
  {
   "cell_type": "markdown",
   "metadata": {},
   "source": [
    "Round the `m3` matrix to two decimal points. Store the result in place and print the new `m3`."
   ]
  },
  {
   "cell_type": "code",
   "execution_count": 16,
   "metadata": {
    "collapsed": false
   },
   "outputs": [
    {
     "name": "stdout",
     "output_type": "stream",
     "text": [
      "m3:  [[ 692.08  741.88  430.68  472.88]\n",
      " [ 396.16  430.68  446.2   480.32]]\n"
     ]
    }
   ],
   "source": [
    "m3 = np.round(m3, decimals = 2)  #rounding the decimal upto two points\n",
    "\n",
    "print(\"m3: \", m3)"
   ]
  },
  {
   "cell_type": "markdown",
   "metadata": {},
   "source": [
    "Sort the `m3` array so that the highest value is at the top left, the next highest value to the right of the highest, and the lowest value is at the bottom right. Print the sorted `m3` array."
   ]
  },
  {
   "cell_type": "code",
   "execution_count": 32,
   "metadata": {
    "collapsed": false
   },
   "outputs": [
    {
     "name": "stdout",
     "output_type": "stream",
     "text": [
      "sorted m3:  [[ 741.88  692.08  480.32  472.88]\n",
      " [ 446.2   430.68  430.68  396.16]]\n"
     ]
    }
   ],
   "source": [
    "m4 = m3.flatten()       #converting the array in 1-D \n",
    "m5 = np.sort(m4, axis = None)[::-1]      #arranging in descending order\n",
    "sorted_m3 = np.reshape(m5, (2, 4))      #reshaping it to 2-D\n",
    "\n",
    "print(\"sorted m3: \", sorted_m3)"
   ]
  },
  {
   "cell_type": "markdown",
   "metadata": {},
   "source": [
    "## NumPy and Masks"
   ]
  },
  {
   "cell_type": "markdown",
   "metadata": {},
   "source": [
    "Create an array called `f` where there are 100 equally-spaced values from 0 to pi, inclusive.\n",
    "Take the sin of the array `f` (element-wise) and store that in place. Print `f`."
   ]
  },
  {
   "cell_type": "code",
   "execution_count": 25,
   "metadata": {
    "collapsed": false
   },
   "outputs": [
    {
     "name": "stdout",
     "output_type": "stream",
     "text": [
      "f:  [ 0.          0.0317407   0.06344941  0.09509419  0.12664313  0.15806446\n",
      "  0.18932649  0.22039774  0.25124689  0.28184285  0.31215479  0.34215217\n",
      "  0.37180474  0.40108264  0.42995636  0.4583968   0.48637531  0.51386368\n",
      "  0.54083421  0.56725974  0.59311362  0.6183698   0.64300284  0.66698791\n",
      "  0.69030083  0.71291813  0.73481699  0.75597537  0.77637192  0.79598611\n",
      "  0.81479816  0.83278911  0.84994085  0.86623608  0.88165837  0.8961922\n",
      "  0.90982291  0.92253677  0.93432097  0.94516362  0.95505381  0.96398157\n",
      "  0.9719379   0.97891478  0.98490519  0.98990308  0.99390341  0.99690217\n",
      "  0.99889632  0.99988386  0.99986379  0.99883613  0.99680192  0.9937632\n",
      "  0.98972305  0.98468552  0.9786557   0.97163967  0.96364449  0.95467822\n",
      "  0.94474989  0.93386952  0.92204806  0.90929743  0.89563047  0.88106097\n",
      "  0.8656036   0.84927394  0.83208844  0.81406443  0.79522006  0.77557432\n",
      "  0.75514703  0.73395875  0.71203084  0.6893854   0.66604524  0.6420339\n",
      "  0.61737556  0.59209508  0.56621793  0.53977018  0.5127785   0.48527007\n",
      "  0.45727263  0.42881438  0.399924    0.37063061  0.34096372  0.31095324\n",
      "  0.2806294   0.25002276  0.21916417  0.18808472  0.15681574  0.12538872\n",
      "  0.09383535  0.06218742  0.03047682 -0.00126449]\n"
     ]
    }
   ],
   "source": [
    "pi = 22/7\n",
    "f = np.linspace(0.0, pi, num=100, endpoint = True)    #creating array of 100 equally spaced numbers between o and pi\n",
    "f = np.sin(f)      #printing sin of the values\n",
    "print(\"f: \", f)"
   ]
  },
  {
   "cell_type": "markdown",
   "metadata": {},
   "source": [
    "Use a 'mask' and print an array that is True when `f` >= 1/2 and False when `f` < 1/2.\n",
    "Print an array sequence that has only those values where `f` >= 1/2."
   ]
  },
  {
   "cell_type": "code",
   "execution_count": 26,
   "metadata": {
    "collapsed": false
   },
   "outputs": [
    {
     "data": {
      "text/plain": [
       "masked_array(data = [0.0 0.031740699683869125 0.06344941344276389 0.09509418758475481\n",
       " 0.12664313285152 0.15806445655397658 0.18932649461059664\n",
       " 0.22039774345612226 0.25124689178852383 0.28184285212220994\n",
       " 0.3121547921156917 0.34215216564213136 0.3718047435714657\n",
       " 0.4010826442330828 0.42995636352835553 0.4583968046626855\n",
       " 0.4863753074670966 -- -- -- -- -- -- -- -- -- -- -- -- -- -- -- -- -- --\n",
       " -- -- -- -- -- -- -- -- -- -- -- -- -- -- -- -- -- -- -- -- -- -- -- -- --\n",
       " -- -- -- -- -- -- -- -- -- -- -- -- -- -- -- -- -- -- -- -- -- -- --\n",
       " 0.48527007142504225 0.457272626635812 0.4288143763799703\n",
       " 0.3999239987732058 0.37063060739712955 0.34096372196076236\n",
       " 0.31095323855276147 0.2806293995143573 0.2500227629633627\n",
       " 0.21916417199996815 0.18808472362534837 0.15681573740441032\n",
       " 0.12538872390425795 0.09383535294017513 0.06218742166113455\n",
       " 0.030476822506986856 -0.00126448893037729],\n",
       "             mask = [False False False False False False False False False False False False\n",
       " False False False False False  True  True  True  True  True  True  True\n",
       "  True  True  True  True  True  True  True  True  True  True  True  True\n",
       "  True  True  True  True  True  True  True  True  True  True  True  True\n",
       "  True  True  True  True  True  True  True  True  True  True  True  True\n",
       "  True  True  True  True  True  True  True  True  True  True  True  True\n",
       "  True  True  True  True  True  True  True  True  True  True  True False\n",
       " False False False False False False False False False False False False\n",
       " False False False False],\n",
       "       fill_value = 1e+20)"
      ]
     },
     "execution_count": 26,
     "metadata": {},
     "output_type": "execute_result"
    }
   ],
   "source": [
    "np.ma.masked_where(f>=0.5, f)  #printing either true or false for the condition given above\n"
   ]
  },
  {
   "cell_type": "markdown",
   "metadata": {
    "collapsed": true
   },
   "source": [
    "## NumPy and 2 Variable Prediction"
   ]
  },
  {
   "cell_type": "markdown",
   "metadata": {},
   "source": [
    "Let `x` be the number of miles a person drives per day and `y` be the dollars spent on buying car fuel per day.\n",
    "  \n",
    "We have created 2 numpy arrays each of size 100 that represent `x` and `y`.  \n",
    "`x` (number of miles) ranges from 1 to 10 with a uniform noise of (0, 1/2).  \n",
    "`y` (money spent in dollars) will be from 1 to 20 with a uniform noise (0, 1). \n",
    "\n",
    "Run the cell below."
   ]
  },
  {
   "cell_type": "code",
   "execution_count": null,
   "metadata": {
    "collapsed": false
   },
   "outputs": [],
   "source": [
    "# seed the random number generator with a fixed value\n",
    "np.random.seed(500)\n",
    "\n",
    "x=np.linspace(1,10,100)+ np.random.uniform(low=0,high=.5,size=100) \n",
    "y=np.linspace(1,20,100)+ np.random.uniform(low=0,high=1,size=100)\n",
    "print ('x = ',x)\n",
    "print ('y= ',y)"
   ]
  },
  {
   "cell_type": "markdown",
   "metadata": {},
   "source": [
    "Find the expected value of `x` and the expected value of `y`."
   ]
  },
  {
   "cell_type": "code",
   "execution_count": null,
   "metadata": {
    "collapsed": true
   },
   "outputs": [],
   "source": []
  },
  {
   "cell_type": "markdown",
   "metadata": {},
   "source": [
    "Find the variance for `x` and `y`."
   ]
  },
  {
   "cell_type": "code",
   "execution_count": null,
   "metadata": {
    "collapsed": false
   },
   "outputs": [],
   "source": []
  },
  {
   "cell_type": "markdown",
   "metadata": {},
   "source": [
    "Find the co-variance of `x` and `y`."
   ]
  },
  {
   "cell_type": "code",
   "execution_count": null,
   "metadata": {
    "collapsed": false
   },
   "outputs": [],
   "source": []
  },
  {
   "cell_type": "markdown",
   "metadata": {},
   "source": [
    "Assume that the number of dollars spent on car fuel is only linearly dependent on the miles driven.\n",
    "Write code that uses a linear predictor to calculate a predicted value of `y` for each `x`.  \n",
    "\n",
    "i.e. $y_{predicted} = f(x) = mx + b.$"
   ]
  },
  {
   "cell_type": "code",
   "execution_count": null,
   "metadata": {
    "collapsed": false
   },
   "outputs": [],
   "source": [
    "y_predicted ="
   ]
  },
  {
   "cell_type": "markdown",
   "metadata": {},
   "source": [
    "Predict `y` for each value in `x`, put the error into an array called $y_{error}$."
   ]
  },
  {
   "cell_type": "code",
   "execution_count": null,
   "metadata": {
    "collapsed": false
   },
   "outputs": [],
   "source": [
    "y_error = "
   ]
  },
  {
   "cell_type": "markdown",
   "metadata": {},
   "source": [
    "Write code that calculates the root mean square error (RMSE)."
   ]
  },
  {
   "cell_type": "code",
   "execution_count": null,
   "metadata": {
    "collapsed": true
   },
   "outputs": [],
   "source": [
    "rmse = "
   ]
  },
  {
   "cell_type": "markdown",
   "metadata": {},
   "source": [
    "## Pandas"
   ]
  },
  {
   "cell_type": "markdown",
   "metadata": {},
   "source": [
    "### Reading a File"
   ]
  },
  {
   "cell_type": "markdown",
   "metadata": {},
   "source": [
    "Read in a CSV file called 'data3.csv' into a dataframe called df.\n",
    "\n",
    "Data description\n",
    "* Data source: http://www.fao.org/nr/water/aquastat/data/query/index.html\n",
    "* Data, units\n",
    "    * GDP, current USD (CPI adjusted)\n",
    "    * NRI, mm/yr\n",
    "    * Population density, inhab/km^2\n",
    "    * Total area of the country, 1000 ha = 10km^2\n",
    "    * Total Population, unit 1000 inhabitants\n",
    "\n",
    "Display the first 10 lines of the dataframe."
   ]
  },
  {
   "cell_type": "code",
   "execution_count": 161,
   "metadata": {
    "collapsed": false
   },
   "outputs": [
    {
     "data": {
      "text/html": [
       "<div>\n",
       "<style scoped>\n",
       "    .dataframe tbody tr th:only-of-type {\n",
       "        vertical-align: middle;\n",
       "    }\n",
       "\n",
       "    .dataframe tbody tr th {\n",
       "        vertical-align: top;\n",
       "    }\n",
       "\n",
       "    .dataframe thead th {\n",
       "        text-align: right;\n",
       "    }\n",
       "</style>\n",
       "<table border=\"1\" class=\"dataframe\">\n",
       "  <thead>\n",
       "    <tr style=\"text-align: right;\">\n",
       "      <th></th>\n",
       "      <th>Area</th>\n",
       "      <th>Area Id</th>\n",
       "      <th>Variable Name</th>\n",
       "      <th>Variable Id</th>\n",
       "      <th>Year</th>\n",
       "      <th>Value</th>\n",
       "      <th>Symbol</th>\n",
       "      <th>Md</th>\n",
       "    </tr>\n",
       "  </thead>\n",
       "  <tbody>\n",
       "    <tr>\n",
       "      <th>0</th>\n",
       "      <td>Argentina</td>\n",
       "      <td>9.0</td>\n",
       "      <td>Total area of the country</td>\n",
       "      <td>4100.0</td>\n",
       "      <td>1962.0</td>\n",
       "      <td>278040.0</td>\n",
       "      <td>E</td>\n",
       "      <td>NaN</td>\n",
       "    </tr>\n",
       "    <tr>\n",
       "      <th>1</th>\n",
       "      <td>Argentina</td>\n",
       "      <td>9.0</td>\n",
       "      <td>Total area of the country</td>\n",
       "      <td>4100.0</td>\n",
       "      <td>1967.0</td>\n",
       "      <td>278040.0</td>\n",
       "      <td>E</td>\n",
       "      <td>NaN</td>\n",
       "    </tr>\n",
       "    <tr>\n",
       "      <th>2</th>\n",
       "      <td>Argentina</td>\n",
       "      <td>9.0</td>\n",
       "      <td>Total area of the country</td>\n",
       "      <td>4100.0</td>\n",
       "      <td>1972.0</td>\n",
       "      <td>278040.0</td>\n",
       "      <td>E</td>\n",
       "      <td>NaN</td>\n",
       "    </tr>\n",
       "    <tr>\n",
       "      <th>3</th>\n",
       "      <td>Argentina</td>\n",
       "      <td>9.0</td>\n",
       "      <td>Total area of the country</td>\n",
       "      <td>4100.0</td>\n",
       "      <td>1977.0</td>\n",
       "      <td>278040.0</td>\n",
       "      <td>E</td>\n",
       "      <td>NaN</td>\n",
       "    </tr>\n",
       "    <tr>\n",
       "      <th>4</th>\n",
       "      <td>Argentina</td>\n",
       "      <td>9.0</td>\n",
       "      <td>Total area of the country</td>\n",
       "      <td>4100.0</td>\n",
       "      <td>1982.0</td>\n",
       "      <td>278040.0</td>\n",
       "      <td>E</td>\n",
       "      <td>NaN</td>\n",
       "    </tr>\n",
       "    <tr>\n",
       "      <th>5</th>\n",
       "      <td>Argentina</td>\n",
       "      <td>9.0</td>\n",
       "      <td>Total area of the country</td>\n",
       "      <td>4100.0</td>\n",
       "      <td>1987.0</td>\n",
       "      <td>278040.0</td>\n",
       "      <td>E</td>\n",
       "      <td>NaN</td>\n",
       "    </tr>\n",
       "    <tr>\n",
       "      <th>6</th>\n",
       "      <td>Argentina</td>\n",
       "      <td>9.0</td>\n",
       "      <td>Total area of the country</td>\n",
       "      <td>4100.0</td>\n",
       "      <td>1992.0</td>\n",
       "      <td>278040.0</td>\n",
       "      <td>E</td>\n",
       "      <td>NaN</td>\n",
       "    </tr>\n",
       "    <tr>\n",
       "      <th>7</th>\n",
       "      <td>Argentina</td>\n",
       "      <td>9.0</td>\n",
       "      <td>Total area of the country</td>\n",
       "      <td>4100.0</td>\n",
       "      <td>1997.0</td>\n",
       "      <td>278040.0</td>\n",
       "      <td>E</td>\n",
       "      <td>NaN</td>\n",
       "    </tr>\n",
       "    <tr>\n",
       "      <th>8</th>\n",
       "      <td>Argentina</td>\n",
       "      <td>9.0</td>\n",
       "      <td>Total area of the country</td>\n",
       "      <td>4100.0</td>\n",
       "      <td>2002.0</td>\n",
       "      <td>278040.0</td>\n",
       "      <td>E</td>\n",
       "      <td>NaN</td>\n",
       "    </tr>\n",
       "    <tr>\n",
       "      <th>9</th>\n",
       "      <td>Argentina</td>\n",
       "      <td>9.0</td>\n",
       "      <td>Total area of the country</td>\n",
       "      <td>4100.0</td>\n",
       "      <td>2007.0</td>\n",
       "      <td>278040.0</td>\n",
       "      <td>E</td>\n",
       "      <td>NaN</td>\n",
       "    </tr>\n",
       "  </tbody>\n",
       "</table>\n",
       "</div>"
      ],
      "text/plain": [
       "        Area  Area Id              Variable Name  Variable Id    Year  \\\n",
       "0  Argentina      9.0  Total area of the country       4100.0  1962.0   \n",
       "1  Argentina      9.0  Total area of the country       4100.0  1967.0   \n",
       "2  Argentina      9.0  Total area of the country       4100.0  1972.0   \n",
       "3  Argentina      9.0  Total area of the country       4100.0  1977.0   \n",
       "4  Argentina      9.0  Total area of the country       4100.0  1982.0   \n",
       "5  Argentina      9.0  Total area of the country       4100.0  1987.0   \n",
       "6  Argentina      9.0  Total area of the country       4100.0  1992.0   \n",
       "7  Argentina      9.0  Total area of the country       4100.0  1997.0   \n",
       "8  Argentina      9.0  Total area of the country       4100.0  2002.0   \n",
       "9  Argentina      9.0  Total area of the country       4100.0  2007.0   \n",
       "\n",
       "      Value Symbol  Md  \n",
       "0  278040.0      E NaN  \n",
       "1  278040.0      E NaN  \n",
       "2  278040.0      E NaN  \n",
       "3  278040.0      E NaN  \n",
       "4  278040.0      E NaN  \n",
       "5  278040.0      E NaN  \n",
       "6  278040.0      E NaN  \n",
       "7  278040.0      E NaN  \n",
       "8  278040.0      E NaN  \n",
       "9  278040.0      E NaN  "
      ]
     },
     "execution_count": 161,
     "metadata": {},
     "output_type": "execute_result"
    }
   ],
   "source": [
    "df = pd.read_csv(\"data3.csv\")  #reading csv file\n",
    "df[:10]"
   ]
  },
  {
   "cell_type": "markdown",
   "metadata": {},
   "source": [
    "Display the column names."
   ]
  },
  {
   "cell_type": "code",
   "execution_count": 162,
   "metadata": {
    "collapsed": false
   },
   "outputs": [
    {
     "data": {
      "text/html": [
       "<div>\n",
       "<style scoped>\n",
       "    .dataframe tbody tr th:only-of-type {\n",
       "        vertical-align: middle;\n",
       "    }\n",
       "\n",
       "    .dataframe tbody tr th {\n",
       "        vertical-align: top;\n",
       "    }\n",
       "\n",
       "    .dataframe thead th {\n",
       "        text-align: right;\n",
       "    }\n",
       "</style>\n",
       "<table border=\"1\" class=\"dataframe\">\n",
       "  <thead>\n",
       "    <tr style=\"text-align: right;\">\n",
       "      <th></th>\n",
       "      <th>Area</th>\n",
       "      <th>Area Id</th>\n",
       "      <th>Variable Name</th>\n",
       "      <th>Variable Id</th>\n",
       "      <th>Year</th>\n",
       "      <th>Value</th>\n",
       "      <th>Symbol</th>\n",
       "      <th>Md</th>\n",
       "    </tr>\n",
       "  </thead>\n",
       "  <tbody>\n",
       "  </tbody>\n",
       "</table>\n",
       "</div>"
      ],
      "text/plain": [
       "Empty DataFrame\n",
       "Columns: [Area, Area Id, Variable Name, Variable Id, Year, Value, Symbol, Md]\n",
       "Index: []"
      ]
     },
     "execution_count": 162,
     "metadata": {},
     "output_type": "execute_result"
    }
   ],
   "source": [
    "df[:0]   #printing column names"
   ]
  },
  {
   "cell_type": "markdown",
   "metadata": {},
   "source": [
    "### Data Preprocessing"
   ]
  },
  {
   "cell_type": "markdown",
   "metadata": {},
   "source": [
    "Create a mask of NAN values (i.e. apply `.isnull` on the dataframe). Inspect the mask for 'True' values, they denote NANs.  \n",
    "*Hint: You will notice that the last 8 rows and the last column ('Other') have NAN values. You can also use df.tail() to see the last row.*\n",
    "\n",
    "Remove the bottom 8 rows from the dataframe because they contain NAN values. Also remove the column 'Other'."
   ]
  },
  {
   "cell_type": "code",
   "execution_count": 163,
   "metadata": {
    "collapsed": false
   },
   "outputs": [],
   "source": [
    "pd.isnull(df)                     \n",
    "df.drop(df.tail(8).index,inplace=True)    #droping the last 8 rows \n",
    "df = df.drop(columns = ['Md'])    #removing Md column"
   ]
  },
  {
   "cell_type": "markdown",
   "metadata": {},
   "source": [
    "All the columns in our dataframe are not required for analysis. Drop these columns: `Area Id`, `Variable Id`, and `Symbol` and save the new dataframe as `df1`.  "
   ]
  },
  {
   "cell_type": "code",
   "execution_count": 164,
   "metadata": {
    "collapsed": false
   },
   "outputs": [],
   "source": [
    "df1 = df.drop(columns = ['Area Id', 'Variable Id', 'Symbol'])   #droping the columns"
   ]
  },
  {
   "cell_type": "markdown",
   "metadata": {},
   "source": [
    "Display all the unique values in your new dataframe for these columns: `Area`, `Variable Name`, and `Year`.  \n",
    "\n",
    "Note the Countries and the Metrics (ie.recorded variables) represented in your dataset.\n",
    "*Hint: Use .unique( ) method.*"
   ]
  },
  {
   "cell_type": "code",
   "execution_count": 165,
   "metadata": {
    "collapsed": false
   },
   "outputs": [
    {
     "name": "stdout",
     "output_type": "stream",
     "text": [
      "['Argentina' 'Australia' 'Germany' 'Iceland' 'Ireland' 'Sweden'\n",
      " 'United States of America']\n",
      "['Total area of the country' 'Total population' 'Population density'\n",
      " 'Gross Domestic Product (GDP)' 'National Rainfall Index (NRI)']\n",
      "[ 1962.  1967.  1972.  1977.  1982.  1987.  1992.  1997.  2002.  2007.\n",
      "  2012.  2014.  2015.  1963.  1970.  1974.  1978.  1984.  1990.  1964.\n",
      "  1981.  1985.  1996.  2001.  1969.  1973.  1979.  1993.  1971.  1975.\n",
      "  1986.  1991.  1998.  2000.  1965.  1983.  1988.  1995.]\n"
     ]
    }
   ],
   "source": [
    "print(pd.Series.unique(df1['Area']))\n",
    "print(pd.Series.unique(df1['Variable Name']))\n",
    "print(pd.Series.unique(df1['Year']))"
   ]
  },
  {
   "cell_type": "markdown",
   "metadata": {},
   "source": [
    "Convert the `Year` column string values to pandas datetime objects, where only the year is specified.  \n",
    "*Hint: df1['Year'] = pd.to_datetime(pd.Series(df1['Year']).astype(int),format='%Y').dt.year*\n",
    "\n",
    "Run df1.tail() to see part of the result."
   ]
  },
  {
   "cell_type": "code",
   "execution_count": 166,
   "metadata": {
    "collapsed": false
   },
   "outputs": [
    {
     "data": {
      "text/html": [
       "<div>\n",
       "<style scoped>\n",
       "    .dataframe tbody tr th:only-of-type {\n",
       "        vertical-align: middle;\n",
       "    }\n",
       "\n",
       "    .dataframe tbody tr th {\n",
       "        vertical-align: top;\n",
       "    }\n",
       "\n",
       "    .dataframe thead th {\n",
       "        text-align: right;\n",
       "    }\n",
       "</style>\n",
       "<table border=\"1\" class=\"dataframe\">\n",
       "  <thead>\n",
       "    <tr style=\"text-align: right;\">\n",
       "      <th></th>\n",
       "      <th>Area</th>\n",
       "      <th>Variable Name</th>\n",
       "      <th>Year</th>\n",
       "      <th>Value</th>\n",
       "    </tr>\n",
       "  </thead>\n",
       "  <tbody>\n",
       "    <tr>\n",
       "      <th>385</th>\n",
       "      <td>United States of America</td>\n",
       "      <td>National Rainfall Index (NRI)</td>\n",
       "      <td>1981</td>\n",
       "      <td>949.2</td>\n",
       "    </tr>\n",
       "    <tr>\n",
       "      <th>386</th>\n",
       "      <td>United States of America</td>\n",
       "      <td>National Rainfall Index (NRI)</td>\n",
       "      <td>1984</td>\n",
       "      <td>974.6</td>\n",
       "    </tr>\n",
       "    <tr>\n",
       "      <th>387</th>\n",
       "      <td>United States of America</td>\n",
       "      <td>National Rainfall Index (NRI)</td>\n",
       "      <td>1992</td>\n",
       "      <td>1020.0</td>\n",
       "    </tr>\n",
       "    <tr>\n",
       "      <th>388</th>\n",
       "      <td>United States of America</td>\n",
       "      <td>National Rainfall Index (NRI)</td>\n",
       "      <td>1996</td>\n",
       "      <td>1005.0</td>\n",
       "    </tr>\n",
       "    <tr>\n",
       "      <th>389</th>\n",
       "      <td>United States of America</td>\n",
       "      <td>National Rainfall Index (NRI)</td>\n",
       "      <td>2002</td>\n",
       "      <td>938.7</td>\n",
       "    </tr>\n",
       "  </tbody>\n",
       "</table>\n",
       "</div>"
      ],
      "text/plain": [
       "                         Area                  Variable Name  Year   Value\n",
       "385  United States of America  National Rainfall Index (NRI)  1981   949.2\n",
       "386  United States of America  National Rainfall Index (NRI)  1984   974.6\n",
       "387  United States of America  National Rainfall Index (NRI)  1992  1020.0\n",
       "388  United States of America  National Rainfall Index (NRI)  1996  1005.0\n",
       "389  United States of America  National Rainfall Index (NRI)  2002   938.7"
      ]
     },
     "execution_count": 166,
     "metadata": {},
     "output_type": "execute_result"
    }
   ],
   "source": [
    "df1['Year'] = pd.to_datetime(pd.Series(df1['Year']).astype(int),format='%Y').dt.year  #converting the year to pandas date time\n",
    "df1.tail()"
   ]
  },
  {
   "cell_type": "markdown",
   "metadata": {},
   "source": [
    "### Extracting Statistics"
   ]
  },
  {
   "cell_type": "markdown",
   "metadata": {},
   "source": [
    "Create a dataframe 'dftemp' to store rows where the `Area` is `Iceland`."
   ]
  },
  {
   "cell_type": "code",
   "execution_count": 167,
   "metadata": {
    "collapsed": false
   },
   "outputs": [
    {
     "data": {
      "text/html": [
       "<div>\n",
       "<style scoped>\n",
       "    .dataframe tbody tr th:only-of-type {\n",
       "        vertical-align: middle;\n",
       "    }\n",
       "\n",
       "    .dataframe tbody tr th {\n",
       "        vertical-align: top;\n",
       "    }\n",
       "\n",
       "    .dataframe thead th {\n",
       "        text-align: right;\n",
       "    }\n",
       "</style>\n",
       "<table border=\"1\" class=\"dataframe\">\n",
       "  <thead>\n",
       "    <tr style=\"text-align: right;\">\n",
       "      <th></th>\n",
       "      <th>Area</th>\n",
       "      <th>Variable Name</th>\n",
       "      <th>Year</th>\n",
       "      <th>Value</th>\n",
       "    </tr>\n",
       "  </thead>\n",
       "  <tbody>\n",
       "    <tr>\n",
       "      <th>166</th>\n",
       "      <td>Iceland</td>\n",
       "      <td>Total area of the country</td>\n",
       "      <td>1962</td>\n",
       "      <td>1.030000e+04</td>\n",
       "    </tr>\n",
       "    <tr>\n",
       "      <th>167</th>\n",
       "      <td>Iceland</td>\n",
       "      <td>Total area of the country</td>\n",
       "      <td>1967</td>\n",
       "      <td>1.030000e+04</td>\n",
       "    </tr>\n",
       "    <tr>\n",
       "      <th>168</th>\n",
       "      <td>Iceland</td>\n",
       "      <td>Total area of the country</td>\n",
       "      <td>1972</td>\n",
       "      <td>1.030000e+04</td>\n",
       "    </tr>\n",
       "    <tr>\n",
       "      <th>169</th>\n",
       "      <td>Iceland</td>\n",
       "      <td>Total area of the country</td>\n",
       "      <td>1977</td>\n",
       "      <td>1.030000e+04</td>\n",
       "    </tr>\n",
       "    <tr>\n",
       "      <th>170</th>\n",
       "      <td>Iceland</td>\n",
       "      <td>Total area of the country</td>\n",
       "      <td>1982</td>\n",
       "      <td>1.030000e+04</td>\n",
       "    </tr>\n",
       "    <tr>\n",
       "      <th>171</th>\n",
       "      <td>Iceland</td>\n",
       "      <td>Total area of the country</td>\n",
       "      <td>1987</td>\n",
       "      <td>1.030000e+04</td>\n",
       "    </tr>\n",
       "    <tr>\n",
       "      <th>172</th>\n",
       "      <td>Iceland</td>\n",
       "      <td>Total area of the country</td>\n",
       "      <td>1992</td>\n",
       "      <td>1.030000e+04</td>\n",
       "    </tr>\n",
       "    <tr>\n",
       "      <th>173</th>\n",
       "      <td>Iceland</td>\n",
       "      <td>Total area of the country</td>\n",
       "      <td>1997</td>\n",
       "      <td>1.030000e+04</td>\n",
       "    </tr>\n",
       "    <tr>\n",
       "      <th>174</th>\n",
       "      <td>Iceland</td>\n",
       "      <td>Total area of the country</td>\n",
       "      <td>2002</td>\n",
       "      <td>1.030000e+04</td>\n",
       "    </tr>\n",
       "    <tr>\n",
       "      <th>175</th>\n",
       "      <td>Iceland</td>\n",
       "      <td>Total area of the country</td>\n",
       "      <td>2007</td>\n",
       "      <td>1.030000e+04</td>\n",
       "    </tr>\n",
       "    <tr>\n",
       "      <th>176</th>\n",
       "      <td>Iceland</td>\n",
       "      <td>Total area of the country</td>\n",
       "      <td>2012</td>\n",
       "      <td>1.030000e+04</td>\n",
       "    </tr>\n",
       "    <tr>\n",
       "      <th>177</th>\n",
       "      <td>Iceland</td>\n",
       "      <td>Total area of the country</td>\n",
       "      <td>2014</td>\n",
       "      <td>1.030000e+04</td>\n",
       "    </tr>\n",
       "    <tr>\n",
       "      <th>178</th>\n",
       "      <td>Iceland</td>\n",
       "      <td>Total population</td>\n",
       "      <td>1962</td>\n",
       "      <td>1.826000e+02</td>\n",
       "    </tr>\n",
       "    <tr>\n",
       "      <th>179</th>\n",
       "      <td>Iceland</td>\n",
       "      <td>Total population</td>\n",
       "      <td>1967</td>\n",
       "      <td>1.974000e+02</td>\n",
       "    </tr>\n",
       "    <tr>\n",
       "      <th>180</th>\n",
       "      <td>Iceland</td>\n",
       "      <td>Total population</td>\n",
       "      <td>1972</td>\n",
       "      <td>2.099000e+02</td>\n",
       "    </tr>\n",
       "    <tr>\n",
       "      <th>181</th>\n",
       "      <td>Iceland</td>\n",
       "      <td>Total population</td>\n",
       "      <td>1977</td>\n",
       "      <td>2.221000e+02</td>\n",
       "    </tr>\n",
       "    <tr>\n",
       "      <th>182</th>\n",
       "      <td>Iceland</td>\n",
       "      <td>Total population</td>\n",
       "      <td>1982</td>\n",
       "      <td>2.331000e+02</td>\n",
       "    </tr>\n",
       "    <tr>\n",
       "      <th>183</th>\n",
       "      <td>Iceland</td>\n",
       "      <td>Total population</td>\n",
       "      <td>1987</td>\n",
       "      <td>2.469000e+02</td>\n",
       "    </tr>\n",
       "    <tr>\n",
       "      <th>184</th>\n",
       "      <td>Iceland</td>\n",
       "      <td>Total population</td>\n",
       "      <td>1992</td>\n",
       "      <td>2.599000e+02</td>\n",
       "    </tr>\n",
       "    <tr>\n",
       "      <th>185</th>\n",
       "      <td>Iceland</td>\n",
       "      <td>Total population</td>\n",
       "      <td>1997</td>\n",
       "      <td>2.728000e+02</td>\n",
       "    </tr>\n",
       "    <tr>\n",
       "      <th>186</th>\n",
       "      <td>Iceland</td>\n",
       "      <td>Total population</td>\n",
       "      <td>2002</td>\n",
       "      <td>2.869000e+02</td>\n",
       "    </tr>\n",
       "    <tr>\n",
       "      <th>187</th>\n",
       "      <td>Iceland</td>\n",
       "      <td>Total population</td>\n",
       "      <td>2007</td>\n",
       "      <td>3.054000e+02</td>\n",
       "    </tr>\n",
       "    <tr>\n",
       "      <th>188</th>\n",
       "      <td>Iceland</td>\n",
       "      <td>Total population</td>\n",
       "      <td>2012</td>\n",
       "      <td>3.234000e+02</td>\n",
       "    </tr>\n",
       "    <tr>\n",
       "      <th>189</th>\n",
       "      <td>Iceland</td>\n",
       "      <td>Total population</td>\n",
       "      <td>2015</td>\n",
       "      <td>3.294000e+02</td>\n",
       "    </tr>\n",
       "    <tr>\n",
       "      <th>190</th>\n",
       "      <td>Iceland</td>\n",
       "      <td>Population density</td>\n",
       "      <td>1962</td>\n",
       "      <td>1.773000e+00</td>\n",
       "    </tr>\n",
       "    <tr>\n",
       "      <th>191</th>\n",
       "      <td>Iceland</td>\n",
       "      <td>Population density</td>\n",
       "      <td>1967</td>\n",
       "      <td>1.917000e+00</td>\n",
       "    </tr>\n",
       "    <tr>\n",
       "      <th>192</th>\n",
       "      <td>Iceland</td>\n",
       "      <td>Population density</td>\n",
       "      <td>1972</td>\n",
       "      <td>2.038000e+00</td>\n",
       "    </tr>\n",
       "    <tr>\n",
       "      <th>193</th>\n",
       "      <td>Iceland</td>\n",
       "      <td>Population density</td>\n",
       "      <td>1977</td>\n",
       "      <td>2.156000e+00</td>\n",
       "    </tr>\n",
       "    <tr>\n",
       "      <th>194</th>\n",
       "      <td>Iceland</td>\n",
       "      <td>Population density</td>\n",
       "      <td>1982</td>\n",
       "      <td>2.263000e+00</td>\n",
       "    </tr>\n",
       "    <tr>\n",
       "      <th>195</th>\n",
       "      <td>Iceland</td>\n",
       "      <td>Population density</td>\n",
       "      <td>1987</td>\n",
       "      <td>2.397000e+00</td>\n",
       "    </tr>\n",
       "    <tr>\n",
       "      <th>196</th>\n",
       "      <td>Iceland</td>\n",
       "      <td>Population density</td>\n",
       "      <td>1992</td>\n",
       "      <td>2.523000e+00</td>\n",
       "    </tr>\n",
       "    <tr>\n",
       "      <th>197</th>\n",
       "      <td>Iceland</td>\n",
       "      <td>Population density</td>\n",
       "      <td>1997</td>\n",
       "      <td>2.649000e+00</td>\n",
       "    </tr>\n",
       "    <tr>\n",
       "      <th>198</th>\n",
       "      <td>Iceland</td>\n",
       "      <td>Population density</td>\n",
       "      <td>2002</td>\n",
       "      <td>2.785000e+00</td>\n",
       "    </tr>\n",
       "    <tr>\n",
       "      <th>199</th>\n",
       "      <td>Iceland</td>\n",
       "      <td>Population density</td>\n",
       "      <td>2007</td>\n",
       "      <td>2.965000e+00</td>\n",
       "    </tr>\n",
       "    <tr>\n",
       "      <th>200</th>\n",
       "      <td>Iceland</td>\n",
       "      <td>Population density</td>\n",
       "      <td>2012</td>\n",
       "      <td>3.140000e+00</td>\n",
       "    </tr>\n",
       "    <tr>\n",
       "      <th>201</th>\n",
       "      <td>Iceland</td>\n",
       "      <td>Population density</td>\n",
       "      <td>2015</td>\n",
       "      <td>3.198000e+00</td>\n",
       "    </tr>\n",
       "    <tr>\n",
       "      <th>202</th>\n",
       "      <td>Iceland</td>\n",
       "      <td>Gross Domestic Product (GDP)</td>\n",
       "      <td>1962</td>\n",
       "      <td>2.849165e+08</td>\n",
       "    </tr>\n",
       "    <tr>\n",
       "      <th>203</th>\n",
       "      <td>Iceland</td>\n",
       "      <td>Gross Domestic Product (GDP)</td>\n",
       "      <td>1967</td>\n",
       "      <td>6.212260e+08</td>\n",
       "    </tr>\n",
       "    <tr>\n",
       "      <th>204</th>\n",
       "      <td>Iceland</td>\n",
       "      <td>Gross Domestic Product (GDP)</td>\n",
       "      <td>1972</td>\n",
       "      <td>8.465069e+08</td>\n",
       "    </tr>\n",
       "    <tr>\n",
       "      <th>205</th>\n",
       "      <td>Iceland</td>\n",
       "      <td>Gross Domestic Product (GDP)</td>\n",
       "      <td>1977</td>\n",
       "      <td>2.226539e+09</td>\n",
       "    </tr>\n",
       "    <tr>\n",
       "      <th>206</th>\n",
       "      <td>Iceland</td>\n",
       "      <td>Gross Domestic Product (GDP)</td>\n",
       "      <td>1982</td>\n",
       "      <td>3.232804e+09</td>\n",
       "    </tr>\n",
       "    <tr>\n",
       "      <th>207</th>\n",
       "      <td>Iceland</td>\n",
       "      <td>Gross Domestic Product (GDP)</td>\n",
       "      <td>1987</td>\n",
       "      <td>5.565384e+09</td>\n",
       "    </tr>\n",
       "    <tr>\n",
       "      <th>208</th>\n",
       "      <td>Iceland</td>\n",
       "      <td>Gross Domestic Product (GDP)</td>\n",
       "      <td>1992</td>\n",
       "      <td>7.138788e+09</td>\n",
       "    </tr>\n",
       "    <tr>\n",
       "      <th>209</th>\n",
       "      <td>Iceland</td>\n",
       "      <td>Gross Domestic Product (GDP)</td>\n",
       "      <td>1997</td>\n",
       "      <td>7.596126e+09</td>\n",
       "    </tr>\n",
       "    <tr>\n",
       "      <th>210</th>\n",
       "      <td>Iceland</td>\n",
       "      <td>Gross Domestic Product (GDP)</td>\n",
       "      <td>2002</td>\n",
       "      <td>9.161798e+09</td>\n",
       "    </tr>\n",
       "    <tr>\n",
       "      <th>211</th>\n",
       "      <td>Iceland</td>\n",
       "      <td>Gross Domestic Product (GDP)</td>\n",
       "      <td>2007</td>\n",
       "      <td>2.129384e+10</td>\n",
       "    </tr>\n",
       "    <tr>\n",
       "      <th>212</th>\n",
       "      <td>Iceland</td>\n",
       "      <td>Gross Domestic Product (GDP)</td>\n",
       "      <td>2012</td>\n",
       "      <td>1.419452e+10</td>\n",
       "    </tr>\n",
       "    <tr>\n",
       "      <th>213</th>\n",
       "      <td>Iceland</td>\n",
       "      <td>Gross Domestic Product (GDP)</td>\n",
       "      <td>2015</td>\n",
       "      <td>1.659849e+10</td>\n",
       "    </tr>\n",
       "    <tr>\n",
       "      <th>214</th>\n",
       "      <td>Iceland</td>\n",
       "      <td>National Rainfall Index (NRI)</td>\n",
       "      <td>1967</td>\n",
       "      <td>8.160000e+02</td>\n",
       "    </tr>\n",
       "    <tr>\n",
       "      <th>215</th>\n",
       "      <td>Iceland</td>\n",
       "      <td>National Rainfall Index (NRI)</td>\n",
       "      <td>1971</td>\n",
       "      <td>9.632000e+02</td>\n",
       "    </tr>\n",
       "    <tr>\n",
       "      <th>216</th>\n",
       "      <td>Iceland</td>\n",
       "      <td>National Rainfall Index (NRI)</td>\n",
       "      <td>1975</td>\n",
       "      <td>1.010000e+03</td>\n",
       "    </tr>\n",
       "    <tr>\n",
       "      <th>217</th>\n",
       "      <td>Iceland</td>\n",
       "      <td>National Rainfall Index (NRI)</td>\n",
       "      <td>1981</td>\n",
       "      <td>9.326000e+02</td>\n",
       "    </tr>\n",
       "    <tr>\n",
       "      <th>218</th>\n",
       "      <td>Iceland</td>\n",
       "      <td>National Rainfall Index (NRI)</td>\n",
       "      <td>1986</td>\n",
       "      <td>9.685000e+02</td>\n",
       "    </tr>\n",
       "    <tr>\n",
       "      <th>219</th>\n",
       "      <td>Iceland</td>\n",
       "      <td>National Rainfall Index (NRI)</td>\n",
       "      <td>1991</td>\n",
       "      <td>1.095000e+03</td>\n",
       "    </tr>\n",
       "    <tr>\n",
       "      <th>220</th>\n",
       "      <td>Iceland</td>\n",
       "      <td>National Rainfall Index (NRI)</td>\n",
       "      <td>1997</td>\n",
       "      <td>9.932000e+02</td>\n",
       "    </tr>\n",
       "    <tr>\n",
       "      <th>221</th>\n",
       "      <td>Iceland</td>\n",
       "      <td>National Rainfall Index (NRI)</td>\n",
       "      <td>1998</td>\n",
       "      <td>9.234000e+02</td>\n",
       "    </tr>\n",
       "  </tbody>\n",
       "</table>\n",
       "</div>"
      ],
      "text/plain": [
       "        Area                  Variable Name  Year         Value\n",
       "166  Iceland      Total area of the country  1962  1.030000e+04\n",
       "167  Iceland      Total area of the country  1967  1.030000e+04\n",
       "168  Iceland      Total area of the country  1972  1.030000e+04\n",
       "169  Iceland      Total area of the country  1977  1.030000e+04\n",
       "170  Iceland      Total area of the country  1982  1.030000e+04\n",
       "171  Iceland      Total area of the country  1987  1.030000e+04\n",
       "172  Iceland      Total area of the country  1992  1.030000e+04\n",
       "173  Iceland      Total area of the country  1997  1.030000e+04\n",
       "174  Iceland      Total area of the country  2002  1.030000e+04\n",
       "175  Iceland      Total area of the country  2007  1.030000e+04\n",
       "176  Iceland      Total area of the country  2012  1.030000e+04\n",
       "177  Iceland      Total area of the country  2014  1.030000e+04\n",
       "178  Iceland               Total population  1962  1.826000e+02\n",
       "179  Iceland               Total population  1967  1.974000e+02\n",
       "180  Iceland               Total population  1972  2.099000e+02\n",
       "181  Iceland               Total population  1977  2.221000e+02\n",
       "182  Iceland               Total population  1982  2.331000e+02\n",
       "183  Iceland               Total population  1987  2.469000e+02\n",
       "184  Iceland               Total population  1992  2.599000e+02\n",
       "185  Iceland               Total population  1997  2.728000e+02\n",
       "186  Iceland               Total population  2002  2.869000e+02\n",
       "187  Iceland               Total population  2007  3.054000e+02\n",
       "188  Iceland               Total population  2012  3.234000e+02\n",
       "189  Iceland               Total population  2015  3.294000e+02\n",
       "190  Iceland             Population density  1962  1.773000e+00\n",
       "191  Iceland             Population density  1967  1.917000e+00\n",
       "192  Iceland             Population density  1972  2.038000e+00\n",
       "193  Iceland             Population density  1977  2.156000e+00\n",
       "194  Iceland             Population density  1982  2.263000e+00\n",
       "195  Iceland             Population density  1987  2.397000e+00\n",
       "196  Iceland             Population density  1992  2.523000e+00\n",
       "197  Iceland             Population density  1997  2.649000e+00\n",
       "198  Iceland             Population density  2002  2.785000e+00\n",
       "199  Iceland             Population density  2007  2.965000e+00\n",
       "200  Iceland             Population density  2012  3.140000e+00\n",
       "201  Iceland             Population density  2015  3.198000e+00\n",
       "202  Iceland   Gross Domestic Product (GDP)  1962  2.849165e+08\n",
       "203  Iceland   Gross Domestic Product (GDP)  1967  6.212260e+08\n",
       "204  Iceland   Gross Domestic Product (GDP)  1972  8.465069e+08\n",
       "205  Iceland   Gross Domestic Product (GDP)  1977  2.226539e+09\n",
       "206  Iceland   Gross Domestic Product (GDP)  1982  3.232804e+09\n",
       "207  Iceland   Gross Domestic Product (GDP)  1987  5.565384e+09\n",
       "208  Iceland   Gross Domestic Product (GDP)  1992  7.138788e+09\n",
       "209  Iceland   Gross Domestic Product (GDP)  1997  7.596126e+09\n",
       "210  Iceland   Gross Domestic Product (GDP)  2002  9.161798e+09\n",
       "211  Iceland   Gross Domestic Product (GDP)  2007  2.129384e+10\n",
       "212  Iceland   Gross Domestic Product (GDP)  2012  1.419452e+10\n",
       "213  Iceland   Gross Domestic Product (GDP)  2015  1.659849e+10\n",
       "214  Iceland  National Rainfall Index (NRI)  1967  8.160000e+02\n",
       "215  Iceland  National Rainfall Index (NRI)  1971  9.632000e+02\n",
       "216  Iceland  National Rainfall Index (NRI)  1975  1.010000e+03\n",
       "217  Iceland  National Rainfall Index (NRI)  1981  9.326000e+02\n",
       "218  Iceland  National Rainfall Index (NRI)  1986  9.685000e+02\n",
       "219  Iceland  National Rainfall Index (NRI)  1991  1.095000e+03\n",
       "220  Iceland  National Rainfall Index (NRI)  1997  9.932000e+02\n",
       "221  Iceland  National Rainfall Index (NRI)  1998  9.234000e+02"
      ]
     },
     "execution_count": 167,
     "metadata": {},
     "output_type": "execute_result"
    }
   ],
   "source": [
    "dftemp = df1[df1['Area'].isin(['Iceland'])]    #storing the rows where area is iceland\n",
    "dftemp"
   ]
  },
  {
   "cell_type": "markdown",
   "metadata": {},
   "source": [
    "Print the years when the National Rainfall Index (NRI) was `> 950` or `< 900` in Iceland using the dataframe you created in the previous question."
   ]
  },
  {
   "cell_type": "code",
   "execution_count": 168,
   "metadata": {
    "collapsed": false
   },
   "outputs": [
    {
     "data": {
      "text/plain": [
       "214    1967\n",
       "215    1971\n",
       "216    1975\n",
       "218    1986\n",
       "219    1991\n",
       "220    1997\n",
       "Name: Year, dtype: int64"
      ]
     },
     "execution_count": 168,
     "metadata": {},
     "output_type": "execute_result"
    }
   ],
   "source": [
    "dftemp1 = dftemp[dftemp['Variable Name'].isin(['National Rainfall Index (NRI)']).where(dftemp['Value']> 950, dftemp['Value']<900)]\n",
    "dftemp2 = dftemp1[-6:]\n",
    "dftemp2['Year']     #printing the years for the given condition"
   ]
  },
  {
   "cell_type": "markdown",
   "metadata": {},
   "source": [
    "Get all the rows of df1 (from the preprocessed data section of this notebook) where the `Area` is `United States of America` and store that into a new dataframe called `df_usa`. Set the indices of the this dataframe to be the `Year` column.  \n",
    "*Hint: Use .set_index()*"
   ]
  },
  {
   "cell_type": "code",
   "execution_count": 169,
   "metadata": {
    "collapsed": false
   },
   "outputs": [],
   "source": [
    "df_usa = df1[df1['Area'].isin(['United States of America'])]    #getting data where area is USA\n",
    "df_usa  = df_usa.set_index(['Year'])                            #setting Year as index"
   ]
  },
  {
   "cell_type": "markdown",
   "metadata": {},
   "source": [
    "Pivot the dataframe so that the unique `Variable Name` entries become the column entries. The dataframe values should be the ones in the `Value` column. Do this by running the lines of code below."
   ]
  },
  {
   "cell_type": "code",
   "execution_count": 170,
   "metadata": {
    "collapsed": false
   },
   "outputs": [
    {
     "data": {
      "text/html": [
       "<div>\n",
       "<style scoped>\n",
       "    .dataframe tbody tr th:only-of-type {\n",
       "        vertical-align: middle;\n",
       "    }\n",
       "\n",
       "    .dataframe tbody tr th {\n",
       "        vertical-align: top;\n",
       "    }\n",
       "\n",
       "    .dataframe thead th {\n",
       "        text-align: right;\n",
       "    }\n",
       "</style>\n",
       "<table border=\"1\" class=\"dataframe\">\n",
       "  <thead>\n",
       "    <tr style=\"text-align: right;\">\n",
       "      <th>Variable Name</th>\n",
       "      <th>Gross Domestic Product (GDP)</th>\n",
       "      <th>National Rainfall Index (NRI)</th>\n",
       "      <th>Population density</th>\n",
       "      <th>Total area of the country</th>\n",
       "      <th>Total population</th>\n",
       "    </tr>\n",
       "    <tr>\n",
       "      <th>Year</th>\n",
       "      <th></th>\n",
       "      <th></th>\n",
       "      <th></th>\n",
       "      <th></th>\n",
       "      <th></th>\n",
       "    </tr>\n",
       "  </thead>\n",
       "  <tbody>\n",
       "    <tr>\n",
       "      <th>1962</th>\n",
       "      <td>6.050000e+11</td>\n",
       "      <td>NaN</td>\n",
       "      <td>19.93</td>\n",
       "      <td>962909.0</td>\n",
       "      <td>191861.0</td>\n",
       "    </tr>\n",
       "    <tr>\n",
       "      <th>1965</th>\n",
       "      <td>NaN</td>\n",
       "      <td>928.5</td>\n",
       "      <td>NaN</td>\n",
       "      <td>NaN</td>\n",
       "      <td>NaN</td>\n",
       "    </tr>\n",
       "    <tr>\n",
       "      <th>1967</th>\n",
       "      <td>8.620000e+11</td>\n",
       "      <td>NaN</td>\n",
       "      <td>21.16</td>\n",
       "      <td>962909.0</td>\n",
       "      <td>203713.0</td>\n",
       "    </tr>\n",
       "    <tr>\n",
       "      <th>1969</th>\n",
       "      <td>NaN</td>\n",
       "      <td>952.2</td>\n",
       "      <td>NaN</td>\n",
       "      <td>NaN</td>\n",
       "      <td>NaN</td>\n",
       "    </tr>\n",
       "    <tr>\n",
       "      <th>1972</th>\n",
       "      <td>1.280000e+12</td>\n",
       "      <td>NaN</td>\n",
       "      <td>22.14</td>\n",
       "      <td>962909.0</td>\n",
       "      <td>213220.0</td>\n",
       "    </tr>\n",
       "  </tbody>\n",
       "</table>\n",
       "</div>"
      ],
      "text/plain": [
       "Variable Name  Gross Domestic Product (GDP)  National Rainfall Index (NRI)  \\\n",
       "Year                                                                         \n",
       "1962                           6.050000e+11                            NaN   \n",
       "1965                                    NaN                          928.5   \n",
       "1967                           8.620000e+11                            NaN   \n",
       "1969                                    NaN                          952.2   \n",
       "1972                           1.280000e+12                            NaN   \n",
       "\n",
       "Variable Name  Population density  Total area of the country  Total population  \n",
       "Year                                                                            \n",
       "1962                        19.93                   962909.0          191861.0  \n",
       "1965                          NaN                        NaN               NaN  \n",
       "1967                        21.16                   962909.0          203713.0  \n",
       "1969                          NaN                        NaN               NaN  \n",
       "1972                        22.14                   962909.0          213220.0  "
      ]
     },
     "execution_count": 170,
     "metadata": {},
     "output_type": "execute_result"
    }
   ],
   "source": [
    "df_usa=df_usa.pivot(columns='Variable Name',values='Value')  \n",
    "df_usa.head()"
   ]
  },
  {
   "cell_type": "markdown",
   "metadata": {},
   "source": [
    "Rename the corresponding columns to ['GDP','NRI','PD','Area','Population']."
   ]
  },
  {
   "cell_type": "code",
   "execution_count": 171,
   "metadata": {
    "collapsed": false
   },
   "outputs": [],
   "source": [
    "df_usa = df_usa.rename(index = str, columns = {\"Gross Domestic Product (GDP)\":\"GDP\", \"National Rainfall Index (NRI)\":\"NRI\", \"Population density\":\"PD\", \"Total area of the country\":\"Area\", \"Total Population\":\"Population\"})"
   ]
  },
  {
   "cell_type": "markdown",
   "metadata": {},
   "source": [
    "Print the output of `df_usa.isnull().sum()`. This gives us the number of NAN values in each column. Replace the NAN values by 0, using `df_usa=df_usa.fillna(0)`. Print the output of `df_usa.isnull().sum()` again."
   ]
  },
  {
   "cell_type": "code",
   "execution_count": 172,
   "metadata": {
    "collapsed": false
   },
   "outputs": [
    {
     "name": "stdout",
     "output_type": "stream",
     "text": [
      "Number of NAN values before:  Variable Name\n",
      "GDP                  7\n",
      "NRI                 11\n",
      "PD                   7\n",
      "Area                 7\n",
      "Total population     7\n",
      "dtype: int64\n",
      "Number of NAN values after:  Variable Name\n",
      "GDP                 0\n",
      "NRI                 0\n",
      "PD                  0\n",
      "Area                0\n",
      "Total population    0\n",
      "dtype: int64\n"
     ]
    }
   ],
   "source": [
    "print(\"Number of NAN values before: \",df_usa.isnull().sum())    #printing number of NaN values\n",
    "df_usa = df_usa.fillna(0)\n",
    "print(\"Number of NAN values after: \", df_usa.isnull().sum())    #printing the values after the NaN deletion"
   ]
  },
  {
   "cell_type": "markdown",
   "metadata": {},
   "source": [
    "Calculate and print all the column averages and the column standard deviations."
   ]
  },
  {
   "cell_type": "code",
   "execution_count": 173,
   "metadata": {
    "collapsed": false
   },
   "outputs": [
    {
     "name": "stdout",
     "output_type": "stream",
     "text": [
      "Area Id        8.121859e+01\n",
      "Variable Id    1.286758e+02\n",
      "Year           1.644961e+01\n",
      "Value          1.678676e+12\n",
      "dtype: float64\n",
      "Area Id        1.061385e+02\n",
      "Variable Id    4.158308e+03\n",
      "Year           1.988487e+03\n",
      "Value          3.061976e+11\n",
      "dtype: float64\n"
     ]
    }
   ],
   "source": [
    "print(df.std())\n",
    "print(df.mean())"
   ]
  },
  {
   "cell_type": "markdown",
   "metadata": {},
   "source": [
    "Using the `df_usa` dataframe, multiply the `Area` by 10 (so instead of 1000 ha, the unit becomes 100 ha = 1km^2). Store the result in place."
   ]
  },
  {
   "cell_type": "code",
   "execution_count": 174,
   "metadata": {
    "collapsed": false
   },
   "outputs": [
    {
     "data": {
      "text/html": [
       "<div>\n",
       "<style scoped>\n",
       "    .dataframe tbody tr th:only-of-type {\n",
       "        vertical-align: middle;\n",
       "    }\n",
       "\n",
       "    .dataframe tbody tr th {\n",
       "        vertical-align: top;\n",
       "    }\n",
       "\n",
       "    .dataframe thead th {\n",
       "        text-align: right;\n",
       "    }\n",
       "</style>\n",
       "<table border=\"1\" class=\"dataframe\">\n",
       "  <thead>\n",
       "    <tr style=\"text-align: right;\">\n",
       "      <th>Variable Name</th>\n",
       "      <th>GDP</th>\n",
       "      <th>NRI</th>\n",
       "      <th>PD</th>\n",
       "      <th>Area</th>\n",
       "      <th>Total population</th>\n",
       "    </tr>\n",
       "    <tr>\n",
       "      <th>Year</th>\n",
       "      <th></th>\n",
       "      <th></th>\n",
       "      <th></th>\n",
       "      <th></th>\n",
       "      <th></th>\n",
       "    </tr>\n",
       "  </thead>\n",
       "  <tbody>\n",
       "    <tr>\n",
       "      <th>1962</th>\n",
       "      <td>6.050000e+11</td>\n",
       "      <td>0.0</td>\n",
       "      <td>19.93</td>\n",
       "      <td>9629090.0</td>\n",
       "      <td>191861.0</td>\n",
       "    </tr>\n",
       "    <tr>\n",
       "      <th>1965</th>\n",
       "      <td>0.000000e+00</td>\n",
       "      <td>928.5</td>\n",
       "      <td>0.00</td>\n",
       "      <td>0.0</td>\n",
       "      <td>0.0</td>\n",
       "    </tr>\n",
       "    <tr>\n",
       "      <th>1967</th>\n",
       "      <td>8.620000e+11</td>\n",
       "      <td>0.0</td>\n",
       "      <td>21.16</td>\n",
       "      <td>9629090.0</td>\n",
       "      <td>203713.0</td>\n",
       "    </tr>\n",
       "    <tr>\n",
       "      <th>1969</th>\n",
       "      <td>0.000000e+00</td>\n",
       "      <td>952.2</td>\n",
       "      <td>0.00</td>\n",
       "      <td>0.0</td>\n",
       "      <td>0.0</td>\n",
       "    </tr>\n",
       "    <tr>\n",
       "      <th>1972</th>\n",
       "      <td>1.280000e+12</td>\n",
       "      <td>0.0</td>\n",
       "      <td>22.14</td>\n",
       "      <td>9629090.0</td>\n",
       "      <td>213220.0</td>\n",
       "    </tr>\n",
       "    <tr>\n",
       "      <th>1974</th>\n",
       "      <td>0.000000e+00</td>\n",
       "      <td>1008.0</td>\n",
       "      <td>0.00</td>\n",
       "      <td>0.0</td>\n",
       "      <td>0.0</td>\n",
       "    </tr>\n",
       "    <tr>\n",
       "      <th>1977</th>\n",
       "      <td>2.090000e+12</td>\n",
       "      <td>0.0</td>\n",
       "      <td>23.17</td>\n",
       "      <td>9629090.0</td>\n",
       "      <td>223091.0</td>\n",
       "    </tr>\n",
       "    <tr>\n",
       "      <th>1981</th>\n",
       "      <td>0.000000e+00</td>\n",
       "      <td>949.2</td>\n",
       "      <td>0.00</td>\n",
       "      <td>0.0</td>\n",
       "      <td>0.0</td>\n",
       "    </tr>\n",
       "    <tr>\n",
       "      <th>1982</th>\n",
       "      <td>3.340000e+12</td>\n",
       "      <td>0.0</td>\n",
       "      <td>24.30</td>\n",
       "      <td>9629090.0</td>\n",
       "      <td>233954.0</td>\n",
       "    </tr>\n",
       "    <tr>\n",
       "      <th>1984</th>\n",
       "      <td>0.000000e+00</td>\n",
       "      <td>974.6</td>\n",
       "      <td>0.00</td>\n",
       "      <td>0.0</td>\n",
       "      <td>0.0</td>\n",
       "    </tr>\n",
       "    <tr>\n",
       "      <th>1987</th>\n",
       "      <td>4.870000e+12</td>\n",
       "      <td>0.0</td>\n",
       "      <td>25.49</td>\n",
       "      <td>9629090.0</td>\n",
       "      <td>245425.0</td>\n",
       "    </tr>\n",
       "    <tr>\n",
       "      <th>1992</th>\n",
       "      <td>6.540000e+12</td>\n",
       "      <td>1020.0</td>\n",
       "      <td>26.78</td>\n",
       "      <td>9629090.0</td>\n",
       "      <td>257908.0</td>\n",
       "    </tr>\n",
       "    <tr>\n",
       "      <th>1996</th>\n",
       "      <td>0.000000e+00</td>\n",
       "      <td>1005.0</td>\n",
       "      <td>0.00</td>\n",
       "      <td>0.0</td>\n",
       "      <td>0.0</td>\n",
       "    </tr>\n",
       "    <tr>\n",
       "      <th>1997</th>\n",
       "      <td>8.610000e+12</td>\n",
       "      <td>0.0</td>\n",
       "      <td>28.34</td>\n",
       "      <td>9629090.0</td>\n",
       "      <td>272883.0</td>\n",
       "    </tr>\n",
       "    <tr>\n",
       "      <th>2002</th>\n",
       "      <td>1.100000e+13</td>\n",
       "      <td>938.7</td>\n",
       "      <td>29.95</td>\n",
       "      <td>9632030.0</td>\n",
       "      <td>288471.0</td>\n",
       "    </tr>\n",
       "    <tr>\n",
       "      <th>2007</th>\n",
       "      <td>1.450000e+13</td>\n",
       "      <td>0.0</td>\n",
       "      <td>31.32</td>\n",
       "      <td>9632030.0</td>\n",
       "      <td>301656.0</td>\n",
       "    </tr>\n",
       "    <tr>\n",
       "      <th>2012</th>\n",
       "      <td>1.620000e+13</td>\n",
       "      <td>0.0</td>\n",
       "      <td>32.02</td>\n",
       "      <td>9831510.0</td>\n",
       "      <td>314799.0</td>\n",
       "    </tr>\n",
       "    <tr>\n",
       "      <th>2014</th>\n",
       "      <td>0.000000e+00</td>\n",
       "      <td>0.0</td>\n",
       "      <td>0.00</td>\n",
       "      <td>9831510.0</td>\n",
       "      <td>0.0</td>\n",
       "    </tr>\n",
       "    <tr>\n",
       "      <th>2015</th>\n",
       "      <td>1.790000e+13</td>\n",
       "      <td>0.0</td>\n",
       "      <td>32.73</td>\n",
       "      <td>0.0</td>\n",
       "      <td>321774.0</td>\n",
       "    </tr>\n",
       "  </tbody>\n",
       "</table>\n",
       "</div>"
      ],
      "text/plain": [
       "Variable Name           GDP     NRI     PD       Area  Total population\n",
       "Year                                                                   \n",
       "1962           6.050000e+11     0.0  19.93  9629090.0          191861.0\n",
       "1965           0.000000e+00   928.5   0.00        0.0               0.0\n",
       "1967           8.620000e+11     0.0  21.16  9629090.0          203713.0\n",
       "1969           0.000000e+00   952.2   0.00        0.0               0.0\n",
       "1972           1.280000e+12     0.0  22.14  9629090.0          213220.0\n",
       "1974           0.000000e+00  1008.0   0.00        0.0               0.0\n",
       "1977           2.090000e+12     0.0  23.17  9629090.0          223091.0\n",
       "1981           0.000000e+00   949.2   0.00        0.0               0.0\n",
       "1982           3.340000e+12     0.0  24.30  9629090.0          233954.0\n",
       "1984           0.000000e+00   974.6   0.00        0.0               0.0\n",
       "1987           4.870000e+12     0.0  25.49  9629090.0          245425.0\n",
       "1992           6.540000e+12  1020.0  26.78  9629090.0          257908.0\n",
       "1996           0.000000e+00  1005.0   0.00        0.0               0.0\n",
       "1997           8.610000e+12     0.0  28.34  9629090.0          272883.0\n",
       "2002           1.100000e+13   938.7  29.95  9632030.0          288471.0\n",
       "2007           1.450000e+13     0.0  31.32  9632030.0          301656.0\n",
       "2012           1.620000e+13     0.0  32.02  9831510.0          314799.0\n",
       "2014           0.000000e+00     0.0   0.00  9831510.0               0.0\n",
       "2015           1.790000e+13     0.0  32.73        0.0          321774.0"
      ]
     },
     "execution_count": 174,
     "metadata": {},
     "output_type": "execute_result"
    }
   ],
   "source": [
    "df_usa['Area'] = df_usa['Area'] * 10\n",
    "df_usa"
   ]
  },
  {
   "cell_type": "markdown",
   "metadata": {},
   "source": [
    "Create a new column in `df_usa` called `GDP/capita` and populate it with the calculated GDP per capita. Round the results to two decimal points. Store the result in place."
   ]
  },
  {
   "cell_type": "code",
   "execution_count": 175,
   "metadata": {
    "collapsed": false
   },
   "outputs": [],
   "source": [
    "df_usa['GDP/capita'] = df_usa['GDP']/df_usa['Total population']"
   ]
  },
  {
   "cell_type": "markdown",
   "metadata": {},
   "source": [
    "Create a new column in `df_usa` called `PD2` (i.e. population density 2). Calculate the population density. **Note: the units should be inhab/km^2**. Round the reults to two decimal point. Store the result in place."
   ]
  },
  {
   "cell_type": "code",
   "execution_count": 176,
   "metadata": {
    "collapsed": false
   },
   "outputs": [
    {
     "data": {
      "text/html": [
       "<div>\n",
       "<style scoped>\n",
       "    .dataframe tbody tr th:only-of-type {\n",
       "        vertical-align: middle;\n",
       "    }\n",
       "\n",
       "    .dataframe tbody tr th {\n",
       "        vertical-align: top;\n",
       "    }\n",
       "\n",
       "    .dataframe thead th {\n",
       "        text-align: right;\n",
       "    }\n",
       "</style>\n",
       "<table border=\"1\" class=\"dataframe\">\n",
       "  <thead>\n",
       "    <tr style=\"text-align: right;\">\n",
       "      <th>Variable Name</th>\n",
       "      <th>GDP</th>\n",
       "      <th>NRI</th>\n",
       "      <th>PD</th>\n",
       "      <th>Area</th>\n",
       "      <th>Total population</th>\n",
       "      <th>GDP/capita</th>\n",
       "      <th>PD2</th>\n",
       "    </tr>\n",
       "    <tr>\n",
       "      <th>Year</th>\n",
       "      <th></th>\n",
       "      <th></th>\n",
       "      <th></th>\n",
       "      <th></th>\n",
       "      <th></th>\n",
       "      <th></th>\n",
       "      <th></th>\n",
       "    </tr>\n",
       "  </thead>\n",
       "  <tbody>\n",
       "    <tr>\n",
       "      <th>1962</th>\n",
       "      <td>6.050000e+11</td>\n",
       "      <td>0.0</td>\n",
       "      <td>19.93</td>\n",
       "      <td>9629090.0</td>\n",
       "      <td>191861.0</td>\n",
       "      <td>3.153325e+06</td>\n",
       "      <td>0.020000</td>\n",
       "    </tr>\n",
       "    <tr>\n",
       "      <th>1965</th>\n",
       "      <td>0.000000e+00</td>\n",
       "      <td>928.5</td>\n",
       "      <td>0.00</td>\n",
       "      <td>0.0</td>\n",
       "      <td>0.0</td>\n",
       "      <td>NaN</td>\n",
       "      <td>NaN</td>\n",
       "    </tr>\n",
       "    <tr>\n",
       "      <th>1967</th>\n",
       "      <td>8.620000e+11</td>\n",
       "      <td>0.0</td>\n",
       "      <td>21.16</td>\n",
       "      <td>9629090.0</td>\n",
       "      <td>203713.0</td>\n",
       "      <td>4.231443e+06</td>\n",
       "      <td>0.020000</td>\n",
       "    </tr>\n",
       "    <tr>\n",
       "      <th>1969</th>\n",
       "      <td>0.000000e+00</td>\n",
       "      <td>952.2</td>\n",
       "      <td>0.00</td>\n",
       "      <td>0.0</td>\n",
       "      <td>0.0</td>\n",
       "      <td>NaN</td>\n",
       "      <td>NaN</td>\n",
       "    </tr>\n",
       "    <tr>\n",
       "      <th>1972</th>\n",
       "      <td>1.280000e+12</td>\n",
       "      <td>0.0</td>\n",
       "      <td>22.14</td>\n",
       "      <td>9629090.0</td>\n",
       "      <td>213220.0</td>\n",
       "      <td>6.003189e+06</td>\n",
       "      <td>0.020000</td>\n",
       "    </tr>\n",
       "    <tr>\n",
       "      <th>1974</th>\n",
       "      <td>0.000000e+00</td>\n",
       "      <td>1008.0</td>\n",
       "      <td>0.00</td>\n",
       "      <td>0.0</td>\n",
       "      <td>0.0</td>\n",
       "      <td>NaN</td>\n",
       "      <td>NaN</td>\n",
       "    </tr>\n",
       "    <tr>\n",
       "      <th>1977</th>\n",
       "      <td>2.090000e+12</td>\n",
       "      <td>0.0</td>\n",
       "      <td>23.17</td>\n",
       "      <td>9629090.0</td>\n",
       "      <td>223091.0</td>\n",
       "      <td>9.368374e+06</td>\n",
       "      <td>0.020000</td>\n",
       "    </tr>\n",
       "    <tr>\n",
       "      <th>1981</th>\n",
       "      <td>0.000000e+00</td>\n",
       "      <td>949.2</td>\n",
       "      <td>0.00</td>\n",
       "      <td>0.0</td>\n",
       "      <td>0.0</td>\n",
       "      <td>NaN</td>\n",
       "      <td>NaN</td>\n",
       "    </tr>\n",
       "    <tr>\n",
       "      <th>1982</th>\n",
       "      <td>3.340000e+12</td>\n",
       "      <td>0.0</td>\n",
       "      <td>24.30</td>\n",
       "      <td>9629090.0</td>\n",
       "      <td>233954.0</td>\n",
       "      <td>1.427631e+07</td>\n",
       "      <td>0.020000</td>\n",
       "    </tr>\n",
       "    <tr>\n",
       "      <th>1984</th>\n",
       "      <td>0.000000e+00</td>\n",
       "      <td>974.6</td>\n",
       "      <td>0.00</td>\n",
       "      <td>0.0</td>\n",
       "      <td>0.0</td>\n",
       "      <td>NaN</td>\n",
       "      <td>NaN</td>\n",
       "    </tr>\n",
       "    <tr>\n",
       "      <th>1987</th>\n",
       "      <td>4.870000e+12</td>\n",
       "      <td>0.0</td>\n",
       "      <td>25.49</td>\n",
       "      <td>9629090.0</td>\n",
       "      <td>245425.0</td>\n",
       "      <td>1.984313e+07</td>\n",
       "      <td>0.030000</td>\n",
       "    </tr>\n",
       "    <tr>\n",
       "      <th>1992</th>\n",
       "      <td>6.540000e+12</td>\n",
       "      <td>1020.0</td>\n",
       "      <td>26.78</td>\n",
       "      <td>9629090.0</td>\n",
       "      <td>257908.0</td>\n",
       "      <td>2.535788e+07</td>\n",
       "      <td>0.030000</td>\n",
       "    </tr>\n",
       "    <tr>\n",
       "      <th>1996</th>\n",
       "      <td>0.000000e+00</td>\n",
       "      <td>1005.0</td>\n",
       "      <td>0.00</td>\n",
       "      <td>0.0</td>\n",
       "      <td>0.0</td>\n",
       "      <td>NaN</td>\n",
       "      <td>NaN</td>\n",
       "    </tr>\n",
       "    <tr>\n",
       "      <th>1997</th>\n",
       "      <td>8.610000e+12</td>\n",
       "      <td>0.0</td>\n",
       "      <td>28.34</td>\n",
       "      <td>9629090.0</td>\n",
       "      <td>272883.0</td>\n",
       "      <td>3.155198e+07</td>\n",
       "      <td>0.030000</td>\n",
       "    </tr>\n",
       "    <tr>\n",
       "      <th>2002</th>\n",
       "      <td>1.100000e+13</td>\n",
       "      <td>938.7</td>\n",
       "      <td>29.95</td>\n",
       "      <td>9632030.0</td>\n",
       "      <td>288471.0</td>\n",
       "      <td>3.813208e+07</td>\n",
       "      <td>0.030000</td>\n",
       "    </tr>\n",
       "    <tr>\n",
       "      <th>2007</th>\n",
       "      <td>1.450000e+13</td>\n",
       "      <td>0.0</td>\n",
       "      <td>31.32</td>\n",
       "      <td>9632030.0</td>\n",
       "      <td>301656.0</td>\n",
       "      <td>4.806800e+07</td>\n",
       "      <td>0.030000</td>\n",
       "    </tr>\n",
       "    <tr>\n",
       "      <th>2012</th>\n",
       "      <td>1.620000e+13</td>\n",
       "      <td>0.0</td>\n",
       "      <td>32.02</td>\n",
       "      <td>9831510.0</td>\n",
       "      <td>314799.0</td>\n",
       "      <td>5.146141e+07</td>\n",
       "      <td>0.030000</td>\n",
       "    </tr>\n",
       "    <tr>\n",
       "      <th>2014</th>\n",
       "      <td>0.000000e+00</td>\n",
       "      <td>0.0</td>\n",
       "      <td>0.00</td>\n",
       "      <td>9831510.0</td>\n",
       "      <td>0.0</td>\n",
       "      <td>NaN</td>\n",
       "      <td>0.000000</td>\n",
       "    </tr>\n",
       "    <tr>\n",
       "      <th>2015</th>\n",
       "      <td>1.790000e+13</td>\n",
       "      <td>0.0</td>\n",
       "      <td>32.73</td>\n",
       "      <td>0.0</td>\n",
       "      <td>321774.0</td>\n",
       "      <td>5.562911e+07</td>\n",
       "      <td>inf</td>\n",
       "    </tr>\n",
       "  </tbody>\n",
       "</table>\n",
       "</div>"
      ],
      "text/plain": [
       "Variable Name           GDP     NRI     PD       Area  Total population  \\\n",
       "Year                                                                      \n",
       "1962           6.050000e+11     0.0  19.93  9629090.0          191861.0   \n",
       "1965           0.000000e+00   928.5   0.00        0.0               0.0   \n",
       "1967           8.620000e+11     0.0  21.16  9629090.0          203713.0   \n",
       "1969           0.000000e+00   952.2   0.00        0.0               0.0   \n",
       "1972           1.280000e+12     0.0  22.14  9629090.0          213220.0   \n",
       "1974           0.000000e+00  1008.0   0.00        0.0               0.0   \n",
       "1977           2.090000e+12     0.0  23.17  9629090.0          223091.0   \n",
       "1981           0.000000e+00   949.2   0.00        0.0               0.0   \n",
       "1982           3.340000e+12     0.0  24.30  9629090.0          233954.0   \n",
       "1984           0.000000e+00   974.6   0.00        0.0               0.0   \n",
       "1987           4.870000e+12     0.0  25.49  9629090.0          245425.0   \n",
       "1992           6.540000e+12  1020.0  26.78  9629090.0          257908.0   \n",
       "1996           0.000000e+00  1005.0   0.00        0.0               0.0   \n",
       "1997           8.610000e+12     0.0  28.34  9629090.0          272883.0   \n",
       "2002           1.100000e+13   938.7  29.95  9632030.0          288471.0   \n",
       "2007           1.450000e+13     0.0  31.32  9632030.0          301656.0   \n",
       "2012           1.620000e+13     0.0  32.02  9831510.0          314799.0   \n",
       "2014           0.000000e+00     0.0   0.00  9831510.0               0.0   \n",
       "2015           1.790000e+13     0.0  32.73        0.0          321774.0   \n",
       "\n",
       "Variable Name    GDP/capita       PD2  \n",
       "Year                                   \n",
       "1962           3.153325e+06  0.020000  \n",
       "1965                    NaN       NaN  \n",
       "1967           4.231443e+06  0.020000  \n",
       "1969                    NaN       NaN  \n",
       "1972           6.003189e+06  0.020000  \n",
       "1974                    NaN       NaN  \n",
       "1977           9.368374e+06  0.020000  \n",
       "1981                    NaN       NaN  \n",
       "1982           1.427631e+07  0.020000  \n",
       "1984                    NaN       NaN  \n",
       "1987           1.984313e+07  0.030000  \n",
       "1992           2.535788e+07  0.030000  \n",
       "1996                    NaN       NaN  \n",
       "1997           3.155198e+07  0.030000  \n",
       "2002           3.813208e+07  0.030000  \n",
       "2007           4.806800e+07  0.030000  \n",
       "2012           5.146141e+07  0.030000  \n",
       "2014                    NaN  0.000000  \n",
       "2015           5.562911e+07       inf  "
      ]
     },
     "execution_count": 176,
     "metadata": {},
     "output_type": "execute_result"
    }
   ],
   "source": [
    "df_usa['PD2'] = np.around(df_usa['Total population']/df_usa['Area'], decimals = 2)\n",
    "df_usa"
   ]
  },
  {
   "cell_type": "markdown",
   "metadata": {},
   "source": [
    "Find the maximum value and minimum value of the 'NRI' column in the USA (using pandas methods). What years do the min and max values occur in?"
   ]
  },
  {
   "cell_type": "code",
   "execution_count": 251,
   "metadata": {
    "collapsed": false
   },
   "outputs": [
    {
     "name": "stdout",
     "output_type": "stream",
     "text": [
      "1992\n",
      "1965\n"
     ]
    }
   ],
   "source": [
    "s = df_usa.idxmax()\n",
    "r = df_usa[df_usa['NRI']>0.1].idxmin()   #finding the min and max values\n",
    "print(s['NRI'])\n",
    "print(r['NRI'])"
   ]
  },
  {
   "cell_type": "markdown",
   "metadata": {},
   "source": [
    "## Matplotlib"
   ]
  },
  {
   "cell_type": "markdown",
   "metadata": {},
   "source": [
    "Create a dataframe called `icecream` that has column `Flavor` with entries `Strawberry`, `Vanilla`, and `Chocolate` and another column with `Price` with entries `3.50`, `3.00`, and `4.25`. "
   ]
  },
  {
   "cell_type": "code",
   "execution_count": 201,
   "metadata": {
    "collapsed": false
   },
   "outputs": [
    {
     "data": {
      "text/html": [
       "<div>\n",
       "<style scoped>\n",
       "    .dataframe tbody tr th:only-of-type {\n",
       "        vertical-align: middle;\n",
       "    }\n",
       "\n",
       "    .dataframe tbody tr th {\n",
       "        vertical-align: top;\n",
       "    }\n",
       "\n",
       "    .dataframe thead th {\n",
       "        text-align: right;\n",
       "    }\n",
       "</style>\n",
       "<table border=\"1\" class=\"dataframe\">\n",
       "  <thead>\n",
       "    <tr style=\"text-align: right;\">\n",
       "      <th></th>\n",
       "      <th>Flavor</th>\n",
       "      <th>Price</th>\n",
       "    </tr>\n",
       "  </thead>\n",
       "  <tbody>\n",
       "    <tr>\n",
       "      <th>0</th>\n",
       "      <td>Strawberry</td>\n",
       "      <td>3.50</td>\n",
       "    </tr>\n",
       "    <tr>\n",
       "      <th>1</th>\n",
       "      <td>Vanilla</td>\n",
       "      <td>3.00</td>\n",
       "    </tr>\n",
       "    <tr>\n",
       "      <th>2</th>\n",
       "      <td>Chocolate</td>\n",
       "      <td>4.25</td>\n",
       "    </tr>\n",
       "  </tbody>\n",
       "</table>\n",
       "</div>"
      ],
      "text/plain": [
       "       Flavor  Price\n",
       "0  Strawberry   3.50\n",
       "1     Vanilla   3.00\n",
       "2   Chocolate   4.25"
      ]
     },
     "execution_count": 201,
     "metadata": {},
     "output_type": "execute_result"
    }
   ],
   "source": [
    "d = {'Flavor': ['Strawberry', 'Vanilla', 'Chocolate'], 'Price' : [3.50, 3.00, 4.25]}\n",
    "icecream = pd.DataFrame(data=d)\n",
    "icecream"
   ]
  },
  {
   "cell_type": "markdown",
   "metadata": {},
   "source": [
    "Create a bar chart representing the three flavors and their associated prices."
   ]
  },
  {
   "cell_type": "code",
   "execution_count": 204,
   "metadata": {
    "collapsed": false
   },
   "outputs": [
    {
     "data": {
      "text/plain": [
       "<matplotlib.axes._subplots.AxesSubplot at 0x1e23b5b40b8>"
      ]
     },
     "execution_count": 204,
     "metadata": {},
     "output_type": "execute_result"
    },
    {
     "data": {
      "image/png": "[encoded data removed]",
      "text/plain": [
       "<matplotlib.figure.Figure at 0x1e23b5a8550>"
      ]
     },
     "metadata": {},
     "output_type": "display_data"
    }
   ],
   "source": [
    "icecream.plot.bar(x ='Flavor', y='Price', color='green')"
   ]
  },
  {
   "cell_type": "markdown",
   "metadata": {},
   "source": [
    "Create 9 random plots. The top three should be scatter plots (one with green dots, one with purple crosses, and one with blue triangles. The middle three graphs should be a line graph, a horizontal bar chart, and a histogram. The bottom three graphs should be trignometric functions (one sin, one cosine, one tangent)."
   ]
  },
  {
   "cell_type": "code",
   "execution_count": 245,
   "metadata": {
    "collapsed": false
   },
   "outputs": [
    {
     "data": {
      "text/plain": [
       "[<matplotlib.lines.Line2D at 0x1e240ed6160>]"
      ]
     },
     "execution_count": 245,
     "metadata": {},
     "output_type": "execute_result"
    },
    {
     "data": {
      "image/png": "[encoded data removed]",
      "text/plain": [
       "<matplotlib.figure.Figure at 0x1e240da0630>"
      ]
     },
     "metadata": {},
     "output_type": "display_data"
    }
   ],
   "source": [
    "N=20\n",
    "P = 100\n",
    "x = 0.9*np.random.rand(P)\n",
    "y = 0.9*np.random.rand(P)\n",
    "vals = np.random.randint(0,11,N)\n",
    "f, ax = plt.subplots(nrows=3,ncols=3)\n",
    "\n",
    "\n",
    "ax[0,0].scatter(x, y, color = 'green', s = 30)\n",
    "ax[0, 1].scatter(x, y, color = 'purple', s = 30, marker = 'x')\n",
    "ax[0, 2].scatter(x, y, color = 'blue', s =30, marker = '^')\n",
    "ax[1, 0].plot([1, 2, 3, 4], [5, 6, 6, 9 ], color = 'red')\n",
    "people = ('A', 'N', 'H', 'V', 'M')\n",
    "y_pos = np.arange(len(people))\n",
    "performance = 3 + 10 * np.random.rand(len(people))\n",
    "error = np.random.rand(len(people))\n",
    "\n",
    "ax[1, 1].barh(y_pos, performance, xerr=error, align='center',\n",
    "        color='green', ecolor='black')\n",
    "ax[1, 1].set_yticks(y_pos)\n",
    "ax[1, 1].set_yticklabels(people)\n",
    "ax[1, 1].invert_yaxis()  # labels read top-to-bottom\n",
    "ax[1, 1].set_xlabel('Performance')\n",
    "\n",
    "n_bins = 20\n",
    "ax[1, 2].hist(x, bins=n_bins)\n",
    "\n",
    "Fs = 8000\n",
    "f = 5\n",
    "sample = 8000\n",
    "x = np.arange(sample)\n",
    "y = np.sin(2 * np.pi * f * x / Fs)\n",
    "ax[2, 0].plot(x, y)\n",
    "\n",
    "x = np.arange(sample)\n",
    "y = np.cos(2* np.pi * f * x/Fs)\n",
    "ax[2, 1].plot(x, y)\n",
    "\n",
    "x3=np.linspace(0 , 2*pi, 51)\n",
    "yy = np.tan(x3)\n",
    "ax[2, 2].plot(x3, yy, linewidth=1.2, color=\"black\")"
   ]
  },
  {
   "cell_type": "markdown",
   "metadata": {
    "collapsed": true
   },
   "source": [
    "## Extra Credit"
   ]
  },
  {
   "cell_type": "markdown",
   "metadata": {},
   "source": [
    "Run the cell below to read in the data. See: https://www.quantshare.com/sa-43-10-ways-to-download-historical-stock-quotes-data-for-free"
   ]
  },
  {
   "cell_type": "code",
   "execution_count": 246,
   "metadata": {
    "collapsed": false
   },
   "outputs": [
    {
     "data": {
      "text/html": [
       "<div>\n",
       "<style scoped>\n",
       "    .dataframe tbody tr th:only-of-type {\n",
       "        vertical-align: middle;\n",
       "    }\n",
       "\n",
       "    .dataframe tbody tr th {\n",
       "        vertical-align: top;\n",
       "    }\n",
       "\n",
       "    .dataframe thead th {\n",
       "        text-align: right;\n",
       "    }\n",
       "</style>\n",
       "<table border=\"1\" class=\"dataframe\">\n",
       "  <thead>\n",
       "    <tr style=\"text-align: right;\">\n",
       "      <th></th>\n",
       "      <th>Date</th>\n",
       "      <th>Open</th>\n",
       "      <th>High</th>\n",
       "      <th>Low</th>\n",
       "      <th>Close</th>\n",
       "      <th>Volume</th>\n",
       "    </tr>\n",
       "  </thead>\n",
       "  <tbody>\n",
       "    <tr>\n",
       "      <th>0</th>\n",
       "      <td>8-Feb-18</td>\n",
       "      <td>160.29</td>\n",
       "      <td>161.00</td>\n",
       "      <td>155.03</td>\n",
       "      <td>155.15</td>\n",
       "      <td>54390516</td>\n",
       "    </tr>\n",
       "    <tr>\n",
       "      <th>1</th>\n",
       "      <td>7-Feb-18</td>\n",
       "      <td>163.08</td>\n",
       "      <td>163.40</td>\n",
       "      <td>159.07</td>\n",
       "      <td>159.54</td>\n",
       "      <td>51608580</td>\n",
       "    </tr>\n",
       "    <tr>\n",
       "      <th>2</th>\n",
       "      <td>6-Feb-18</td>\n",
       "      <td>154.83</td>\n",
       "      <td>163.72</td>\n",
       "      <td>154.00</td>\n",
       "      <td>163.03</td>\n",
       "      <td>68243838</td>\n",
       "    </tr>\n",
       "    <tr>\n",
       "      <th>3</th>\n",
       "      <td>5-Feb-18</td>\n",
       "      <td>159.10</td>\n",
       "      <td>163.88</td>\n",
       "      <td>156.00</td>\n",
       "      <td>156.49</td>\n",
       "      <td>72738522</td>\n",
       "    </tr>\n",
       "    <tr>\n",
       "      <th>4</th>\n",
       "      <td>2-Feb-18</td>\n",
       "      <td>166.00</td>\n",
       "      <td>166.80</td>\n",
       "      <td>160.10</td>\n",
       "      <td>160.50</td>\n",
       "      <td>86593825</td>\n",
       "    </tr>\n",
       "  </tbody>\n",
       "</table>\n",
       "</div>"
      ],
      "text/plain": [
       "       Date    Open    High     Low   Close    Volume\n",
       "0  8-Feb-18  160.29  161.00  155.03  155.15  54390516\n",
       "1  7-Feb-18  163.08  163.40  159.07  159.54  51608580\n",
       "2  6-Feb-18  154.83  163.72  154.00  163.03  68243838\n",
       "3  5-Feb-18  159.10  163.88  156.00  156.49  72738522\n",
       "4  2-Feb-18  166.00  166.80  160.10  160.50  86593825"
      ]
     },
     "execution_count": 246,
     "metadata": {},
     "output_type": "execute_result"
    }
   ],
   "source": [
    "df_google = pd.read_csv('https://finance.google.com/finance/historical?output=csv&q=goog')\n",
    "df_apple = pd.read_csv('https://finance.google.com/finance/historical?output=csv&q=aapl')\n",
    "\n",
    "df_disney = pd.read_csv('https://finance.google.com/finance/historical?output=csv&q=dis')\n",
    "df_nike= pd.read_csv('https://finance.google.com/finance/historical?output=csv&q=nke')\n",
    "\n",
    "df_apple.head()"
   ]
  },
  {
   "cell_type": "markdown",
   "metadata": {},
   "source": [
    "Show a 3 x 3 correlation matrix for Nike, Apple, and Disney stock prices for the month of July, 2017.  \n",
    "\n",
    "Hint: Convert `Date` to a pandas datetime object. \n",
    "Change the indices of all the dataframes to `Date`. Use `Date` indices to filter rows.\n",
    "Create a new dataframe that stores values of the `Close` column from each dataframe.\n",
    "Use the `Close` column of each company's stock data to find the correlation using df.corr()."
   ]
  },
  {
   "cell_type": "code",
   "execution_count": 269,
   "metadata": {
    "collapsed": false
   },
   "outputs": [
    {
     "ename": "TypeError",
     "evalue": "unorderable types: numpy.ndarray() >= numpy.ndarray()",
     "output_type": "error",
     "traceback": [
      "\u001b[0;31m---------------------------------------------------------------------------\u001b[0m",
      "\u001b[0;31mTypeError\u001b[0m                                 Traceback (most recent call last)",
      "\u001b[0;32m<ipython-input-269-d9b8576d37ab>\u001b[0m in \u001b[0;36m<module>\u001b[0;34m()\u001b[0m\n\u001b[1;32m      7\u001b[0m \u001b[0mdf_nike\u001b[0m\u001b[1;33m.\u001b[0m\u001b[0mset_index\u001b[0m\u001b[1;33m(\u001b[0m\u001b[1;34m'Date'\u001b[0m\u001b[1;33m)\u001b[0m\u001b[1;33m\u001b[0m\u001b[0m\n\u001b[1;32m      8\u001b[0m \u001b[0mdf_disney\u001b[0m\u001b[1;33m.\u001b[0m\u001b[0mset_index\u001b[0m\u001b[1;33m(\u001b[0m\u001b[1;34m'Date'\u001b[0m\u001b[1;33m)\u001b[0m\u001b[1;33m\u001b[0m\u001b[0m\n\u001b[0;32m----> 9\u001b[0;31m \u001b[0mdf_apple\u001b[0m\u001b[1;33m.\u001b[0m\u001b[0mloc\u001b[0m\u001b[1;33m[\u001b[0m\u001b[0mdf_apple\u001b[0m\u001b[1;33m.\u001b[0m\u001b[0mindex\u001b[0m \u001b[1;33m>=\u001b[0m \u001b[1;34m'2017-07-01'\u001b[0m\u001b[1;33m]\u001b[0m\u001b[1;33m\u001b[0m\u001b[0m\n\u001b[0m",
      "\u001b[0;32mC:\\Users\\ANITH\\Anaconda3\\lib\\site-packages\\pandas\\core\\indexes\\base.py\u001b[0m in \u001b[0;36m_evaluate_compare\u001b[0;34m(self, other)\u001b[0m\n\u001b[1;32m   3844\u001b[0m                 \u001b[1;32melse\u001b[0m\u001b[1;33m:\u001b[0m\u001b[1;33m\u001b[0m\u001b[0m\n\u001b[1;32m   3845\u001b[0m                     \u001b[1;32mwith\u001b[0m \u001b[0mnp\u001b[0m\u001b[1;33m.\u001b[0m\u001b[0merrstate\u001b[0m\u001b[1;33m(\u001b[0m\u001b[0mall\u001b[0m\u001b[1;33m=\u001b[0m\u001b[1;34m'ignore'\u001b[0m\u001b[1;33m)\u001b[0m\u001b[1;33m:\u001b[0m\u001b[1;33m\u001b[0m\u001b[0m\n\u001b[0;32m-> 3846\u001b[0;31m                         \u001b[0mresult\u001b[0m \u001b[1;33m=\u001b[0m \u001b[0mop\u001b[0m\u001b[1;33m(\u001b[0m\u001b[0mself\u001b[0m\u001b[1;33m.\u001b[0m\u001b[0mvalues\u001b[0m\u001b[1;33m,\u001b[0m \u001b[0mnp\u001b[0m\u001b[1;33m.\u001b[0m\u001b[0masarray\u001b[0m\u001b[1;33m(\u001b[0m\u001b[0mother\u001b[0m\u001b[1;33m)\u001b[0m\u001b[1;33m)\u001b[0m\u001b[1;33m\u001b[0m\u001b[0m\n\u001b[0m\u001b[1;32m   3847\u001b[0m \u001b[1;33m\u001b[0m\u001b[0m\n\u001b[1;32m   3848\u001b[0m                 \u001b[1;31m# technically we could support bool dtyped Index\u001b[0m\u001b[1;33m\u001b[0m\u001b[1;33m\u001b[0m\u001b[0m\n",
      "\u001b[0;31mTypeError\u001b[0m: unorderable types: numpy.ndarray() >= numpy.ndarray()"
     ]
    }
   ],
   "source": [
    "df_apple['Date'] = pd.to_datetime(pd.Series(df_apple['Date']))\n",
    "df_disney['Date'] = pd.to_datetime(pd.Series(df_disney['Date']))\n",
    "df_nike['Date'] = pd.to_datetime(pd.Series(df_nike['Date']))\n",
    "df_google['Date'] = pd.to_datetime(pd.Series(df_google['Date']))\n",
    "df_apple.set_index('Date')\n",
    "df_google.set_index('Date')\n",
    "df_nike.set_index('Date')\n",
    "df_disney.set_index('Date')\n",
    "df_apple.loc[df_apple.index >= '2017-07-01']"
   ]
  },
  {
   "cell_type": "markdown",
   "metadata": {},
   "source": [
    "Show the same correlation matrix but over different time periods.\n",
    "1. the last 20 days  \n",
    "2. the last 80 days"
   ]
  },
  {
   "cell_type": "code",
   "execution_count": null,
   "metadata": {
    "collapsed": true
   },
   "outputs": [],
   "source": []
  },
  {
   "cell_type": "markdown",
   "metadata": {},
   "source": [
    "Change the code so that it accepts a list of any stock symbols (i.e. ['NKE', 'APPL', 'DIS', ... ]) and creates a correlation matrix for the past 100 days."
   ]
  },
  {
   "cell_type": "code",
   "execution_count": null,
   "metadata": {
    "collapsed": true
   },
   "outputs": [],
   "source": []
  }
 ],
 "metadata": {
  "anaconda-cloud": {},
  "kernelspec": {
   "display_name": "Python [default]",
   "language": "python",
   "name": "python3"
  },
  "language_info": {
   "codemirror_mode": {
    "name": "ipython",
    "version": 3
   },
   "file_extension": ".py",
   "mimetype": "text/x-python",
   "name": "python",
   "nbconvert_exporter": "python",
   "pygments_lexer": "ipython3",
   "version": "3.5.2"
  }
 },
 "nbformat": 4,
 "nbformat_minor": 1
}
