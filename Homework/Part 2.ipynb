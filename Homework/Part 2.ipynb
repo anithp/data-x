{
 "cells": [
  {
   "cell_type": "markdown",
   "metadata": {},
   "source": [
    "# Part 2: NLP Code"
   ]
  },
  {
   "cell_type": "markdown",
   "metadata": {},
   "source": [
    "## We will be following this steps:-\n",
    "\n",
    "1. Reading of file.\n",
    "2. Clean the input file.\n",
    "3. Use previous input to generate word vectors for this corpus."
   ]
  },
  {
   "cell_type": "code",
   "execution_count": 79,
   "metadata": {
    "collapsed": false
   },
   "outputs": [],
   "source": [
    "# Remove warnings\n",
    "import warnings\n",
    "warnings.filterwarnings('ignore')\n",
    "\n",
    "import matplotlib.pyplot as plt\n",
    "%matplotlib inline\n",
    "\n",
    "#make compatible with Python 2 and Python 3\n",
    "from __future__ import print_function, division, absolute_import"
   ]
  },
  {
   "cell_type": "code",
   "execution_count": 80,
   "metadata": {
    "collapsed": true
   },
   "outputs": [],
   "source": [
    "import numpy as np       #importing numpy and pandas packages to create a dataframe\n",
    "import pandas as pd\n",
    "\n",
    "train = pd.read_csv(\"prideNprejudice.csv\",delimiter=\"\\t\")\n",
    "# train.shape should be (25000,3)"
   ]
  },
  {
   "cell_type": "code",
   "execution_count": 81,
   "metadata": {
    "collapsed": false
   },
   "outputs": [
    {
     "data": {
      "text/html": [
       "<div>\n",
       "<style scoped>\n",
       "    .dataframe tbody tr th:only-of-type {\n",
       "        vertical-align: middle;\n",
       "    }\n",
       "\n",
       "    .dataframe tbody tr th {\n",
       "        vertical-align: top;\n",
       "    }\n",
       "\n",
       "    .dataframe thead th {\n",
       "        text-align: right;\n",
       "    }\n",
       "</style>\n",
       "<table border=\"1\" class=\"dataframe\">\n",
       "  <thead>\n",
       "    <tr style=\"text-align: right;\">\n",
       "      <th></th>\n",
       "      <th>sentences</th>\n",
       "    </tr>\n",
       "  </thead>\n",
       "  <tbody>\n",
       "    <tr>\n",
       "      <th>0</th>\n",
       "      <td>It is a truth universally acknowledged, that a...</td>\n",
       "    </tr>\n",
       "    <tr>\n",
       "      <th>1</th>\n",
       "      <td>\"My dear Mr. Bennet,\" said his lady to him one...</td>\n",
       "    </tr>\n",
       "    <tr>\n",
       "      <th>2</th>\n",
       "      <td>Bennet replied that he had not.</td>\n",
       "    </tr>\n",
       "    <tr>\n",
       "      <th>3</th>\n",
       "      <td>\"But it is,\" returned she; \"for Mrs. Long has ...</td>\n",
       "    </tr>\n",
       "    <tr>\n",
       "      <th>4</th>\n",
       "      <td>Bennet made no answer.</td>\n",
       "    </tr>\n",
       "  </tbody>\n",
       "</table>\n",
       "</div>"
      ],
      "text/plain": [
       "                                           sentences\n",
       "0  It is a truth universally acknowledged, that a...\n",
       "1  \"My dear Mr. Bennet,\" said his lady to him one...\n",
       "2                    Bennet replied that he had not.\n",
       "3  \"But it is,\" returned she; \"for Mrs. Long has ...\n",
       "4                             Bennet made no answer."
      ]
     },
     "execution_count": 81,
     "metadata": {},
     "output_type": "execute_result"
    }
   ],
   "source": [
    "train.head()   #displaying the head of the train dataframe"
   ]
  },
  {
   "cell_type": "code",
   "execution_count": 82,
   "metadata": {
    "collapsed": true
   },
   "outputs": [],
   "source": [
    "# import packages\n",
    "\n",
    "import bs4 as bs\n",
    "import nltk\n",
    "# nltk.download('all')\n",
    "from nltk.tokenize import sent_tokenize # tokenizes sentences\n",
    "import re\n",
    "from nltk.stem import PorterStemmer\n",
    "from nltk.corpus import stopwords\n",
    "from nltk.stem import WordNetLemmatizer\n",
    "\n",
    "eng_stopwords = stopwords.words('english')"
   ]
  },
  {
   "cell_type": "markdown",
   "metadata": {},
   "source": [
    "## Cleaning the sentences"
   ]
  },
  {
   "cell_type": "code",
   "execution_count": 83,
   "metadata": {
    "collapsed": true
   },
   "outputs": [],
   "source": [
    "from nltk.corpus import stopwords\n",
    "from nltk.util import ngrams\n",
    "\n",
    "\n",
    "ps = PorterStemmer()\n",
    "wnl = WordNetLemmatizer()\n",
    "#defining the function for the cleaner\n",
    "def sentence_cleaner(sentences,lemmatize=True,stem=False):   \n",
    "    '''\n",
    "    Clean and preprocess a review.\n",
    "\n",
    "    1. Remove HTML tags\n",
    "    2. Use regex to remove all special characters (only keep letters)\n",
    "    3. Make strings to lower case and tokenize / word split reviews\n",
    "    4. Remove English stopwords\n",
    "    5. Rejoin to one string\n",
    "    '''\n",
    "    ps = PorterStemmer()\n",
    "    wnl = WordNetLemmatizer()\n",
    "    #1. Remove HTML tags\n",
    "    sentences = bs.BeautifulSoup(sentences).text\n",
    "    #2. Remove punctuation\n",
    "    sentences = re.sub(\"[^a-zA-Z]\", \" \",sentences)\n",
    "    \n",
    "    #3. Tokenize into words (all lower case)\n",
    "    sentences = sentences.lower().split()\n",
    "    \n",
    "    #4.Set stopwords\n",
    "    eng_stopwords = set(stopwords.words(\"english\"))\n",
    "\n",
    "    clean_sentences=[]\n",
    "    for word in sentences:\n",
    "        if word not in eng_stopwords:\n",
    "            if lemmatize is True:\n",
    "                word=wnl.lemmatize(word)\n",
    "            elif stem is True:\n",
    "                if word == 'oed':\n",
    "                    continue\n",
    "                word=ps.stem(word)\n",
    "            clean_sentences.append(word)\n",
    "    return(clean_sentences)"
   ]
  },
  {
   "cell_type": "code",
   "execution_count": 84,
   "metadata": {
    "collapsed": false
   },
   "outputs": [
    {
     "name": "stdout",
     "output_type": "stream",
     "text": [
      "Done with 1000 sentences\n",
      "Done with 2000 sentences\n",
      "Done with 3000 sentences\n",
      "Done with 4000 sentences\n",
      "Done with 5000 sentences\n"
     ]
    }
   ],
   "source": [
    "num_sentences = len(train['sentences'])\n",
    "\n",
    "sentence_clean_original = []      #creating the bag of words\n",
    "\n",
    "for i in range(0,num_sentences):\n",
    "    if( (i+1)%1000 == 0 ):\n",
    "        # print progress\n",
    "        print(\"Done with %d sentences\" %(i+1)) \n",
    "    sentence_clean_original.append(review_cleaner(train['sentences'][i])) "
   ]
  },
  {
   "cell_type": "code",
   "execution_count": 85,
   "metadata": {
    "collapsed": false
   },
   "outputs": [
    {
     "data": {
      "text/plain": [
       "'It is a truth universally acknowledged, that a single man in possessionof a good fortune, must be in want of a wife.However little known the feelings or views of such a man may be on hisfirst entering a neighbourhood, this truth is so well fixed in the mindsof the surrounding families, that he is considered the rightful propertyof some one or other of their daughters.'"
      ]
     },
     "execution_count": 85,
     "metadata": {},
     "output_type": "execute_result"
    }
   ],
   "source": [
    "train['sentences'][0]    #displaying the train data"
   ]
  },
  {
   "cell_type": "code",
   "execution_count": 86,
   "metadata": {
    "collapsed": false
   },
   "outputs": [
    {
     "data": {
      "text/plain": [
       "['truth',\n",
       " 'universally',\n",
       " 'acknowledged',\n",
       " 'single',\n",
       " 'man',\n",
       " 'possessionof',\n",
       " 'good',\n",
       " 'fortune',\n",
       " 'must',\n",
       " 'want',\n",
       " 'wife',\n",
       " 'however',\n",
       " 'little',\n",
       " 'known',\n",
       " 'feeling',\n",
       " 'view',\n",
       " 'man',\n",
       " 'may',\n",
       " 'hisfirst',\n",
       " 'entering',\n",
       " 'neighbourhood',\n",
       " 'truth',\n",
       " 'well',\n",
       " 'fixed',\n",
       " 'mindsof',\n",
       " 'surrounding',\n",
       " 'family',\n",
       " 'considered',\n",
       " 'rightful',\n",
       " 'propertyof',\n",
       " 'one',\n",
       " 'daughter']"
      ]
     },
     "execution_count": 86,
     "metadata": {},
     "output_type": "execute_result"
    }
   ],
   "source": [
    "sentence_clean_original[0]    #displaying the bag of words"
   ]
  },
  {
   "cell_type": "code",
   "execution_count": 87,
   "metadata": {
    "collapsed": false
   },
   "outputs": [
    {
     "data": {
      "text/plain": [
       "5370"
      ]
     },
     "execution_count": 87,
     "metadata": {},
     "output_type": "execute_result"
    }
   ],
   "source": [
    "len(sentence_clean_original)   #length of the BOW"
   ]
  },
  {
   "cell_type": "markdown",
   "metadata": {},
   "source": [
    "## Converting words to Distributed representation"
   ]
  },
  {
   "cell_type": "code",
   "execution_count": 74,
   "metadata": {
    "collapsed": false
   },
   "outputs": [
    {
     "name": "stdout",
     "output_type": "stream",
     "text": [
      "Requirement already satisfied (use --upgrade to upgrade): gensim in c:\\users\\anith\\anaconda3\\lib\\site-packages\n",
      "Requirement already satisfied (use --upgrade to upgrade): numpy>=1.11.3 in c:\\users\\anith\\anaconda3\\lib\\site-packages (from gensim)\n",
      "Requirement already satisfied (use --upgrade to upgrade): smart-open>=1.2.1 in c:\\users\\anith\\anaconda3\\lib\\site-packages (from gensim)\n",
      "Requirement already satisfied (use --upgrade to upgrade): six>=1.5.0 in c:\\users\\anith\\anaconda3\\lib\\site-packages (from gensim)\n",
      "Requirement already satisfied (use --upgrade to upgrade): scipy>=0.18.1 in c:\\users\\anith\\anaconda3\\lib\\site-packages (from gensim)\n",
      "Requirement already satisfied (use --upgrade to upgrade): boto3 in c:\\users\\anith\\anaconda3\\lib\\site-packages (from smart-open>=1.2.1->gensim)\n",
      "Requirement already satisfied (use --upgrade to upgrade): bz2file in c:\\users\\anith\\anaconda3\\lib\\site-packages (from smart-open>=1.2.1->gensim)\n",
      "Requirement already satisfied (use --upgrade to upgrade): boto>=2.32 in c:\\users\\anith\\anaconda3\\lib\\site-packages (from smart-open>=1.2.1->gensim)\n",
      "Requirement already satisfied (use --upgrade to upgrade): requests in c:\\users\\anith\\anaconda3\\lib\\site-packages (from smart-open>=1.2.1->gensim)\n",
      "Requirement already satisfied (use --upgrade to upgrade): s3transfer<0.2.0,>=0.1.10 in c:\\users\\anith\\anaconda3\\lib\\site-packages (from boto3->smart-open>=1.2.1->gensim)\n",
      "Requirement already satisfied (use --upgrade to upgrade): jmespath<1.0.0,>=0.7.1 in c:\\users\\anith\\anaconda3\\lib\\site-packages (from boto3->smart-open>=1.2.1->gensim)\n",
      "Requirement already satisfied (use --upgrade to upgrade): botocore<1.11.0,>=1.10.8 in c:\\users\\anith\\anaconda3\\lib\\site-packages (from boto3->smart-open>=1.2.1->gensim)\n",
      "Requirement already satisfied (use --upgrade to upgrade): docutils>=0.10 in c:\\users\\anith\\anaconda3\\lib\\site-packages (from botocore<1.11.0,>=1.10.8->boto3->smart-open>=1.2.1->gensim)\n",
      "Requirement already satisfied (use --upgrade to upgrade): python-dateutil<3.0.0,>=2.1; python_version >= \"2.7\" in c:\\users\\anith\\anaconda3\\lib\\site-packages (from botocore<1.11.0,>=1.10.8->boto3->smart-open>=1.2.1->gensim)\n"
     ]
    },
    {
     "name": "stderr",
     "output_type": "stream",
     "text": [
      "You are using pip version 8.1.2, however version 10.0.1 is available.\n",
      "You should consider upgrading via the 'python -m pip install --upgrade pip' command.\n"
     ]
    }
   ],
   "source": [
    "!pip install gensim             #installing genism"
   ]
  },
  {
   "cell_type": "code",
   "execution_count": 191,
   "metadata": {
    "collapsed": false
   },
   "outputs": [
    {
     "name": "stdout",
     "output_type": "stream",
     "text": [
      "Training word2vec model... \n"
     ]
    }
   ],
   "source": [
    "sen=sentence_clean_original                     #defining the values for training word2vec model\n",
    "# Set values for various parameters\n",
    "num_features = 500    # Word vector dimensionality                      \n",
    "min_word_count = 5   # ignore all words with total frequency lower than this                       \n",
    "num_workers = 5       # Number of threads to run in parallel\n",
    "context = 4          # Context window size  \n",
    "\n",
    "\n",
    "\n",
    "# Initialize and train the model (this will take some time)\n",
    "from gensim.models import word2vec                       \n",
    "\n",
    "\n",
    "\n",
    "\n",
    "print(\"Training word2vec model... \")\n",
    "model = word2vec.Word2Vec(sen, workers=num_workers, \\\n",
    "           size=num_features, min_count = min_word_count, \\\n",
    "            window = context, iter = 50)\n",
    "\n",
    "\n",
    "# save the model for later use. You can load it later using Word2Vec.load()\n",
    "model_name = \"500features_5minwords_4context\"\n",
    "model.save(model_name)"
   ]
  },
  {
   "cell_type": "markdown",
   "metadata": {},
   "source": [
    "## Exploring model results"
   ]
  },
  {
   "cell_type": "code",
   "execution_count": 192,
   "metadata": {
    "collapsed": false
   },
   "outputs": [
    {
     "name": "stdout",
     "output_type": "stream",
     "text": [
      "Vocab length: 1745\n"
     ]
    }
   ],
   "source": [
    "# Get vocabulary count of the model\n",
    "vocab_tmp = list(model.wv.vocab)\n",
    "print('Vocab length:',len(vocab_tmp))"
   ]
  },
  {
   "cell_type": "code",
   "execution_count": 193,
   "metadata": {
    "collapsed": false
   },
   "outputs": [
    {
     "data": {
      "text/plain": [
       "'finished'"
      ]
     },
     "execution_count": 193,
     "metadata": {},
     "output_type": "execute_result"
    }
   ],
   "source": [
    "# Get Vocabulary words\n",
    "vocab_tmp[0]"
   ]
  },
  {
   "cell_type": "markdown",
   "metadata": {},
   "source": [
    "# Testing Similiarity"
   ]
  },
  {
   "cell_type": "code",
   "execution_count": 194,
   "metadata": {
    "collapsed": false
   },
   "outputs": [
    {
     "data": {
      "text/plain": [
       "0.69198932991509654"
      ]
     },
     "execution_count": 194,
     "metadata": {},
     "output_type": "execute_result"
    }
   ],
   "source": [
    "# Get cosine similarity of words\n",
    "from sklearn.metrics.pairwise import cosine_similarity\n",
    "\n",
    "model.similarity('girl','boy')"
   ]
  },
  {
   "cell_type": "code",
   "execution_count": 195,
   "metadata": {
    "collapsed": false
   },
   "outputs": [
    {
     "data": {
      "text/plain": [
       "0.83635626223417825"
      ]
     },
     "execution_count": 195,
     "metadata": {},
     "output_type": "execute_result"
    }
   ],
   "source": [
    "model.similarity('woman', 'men')"
   ]
  },
  {
   "cell_type": "code",
   "execution_count": 196,
   "metadata": {
    "collapsed": false
   },
   "outputs": [
    {
     "data": {
      "text/plain": [
       "0.18927051314399757"
      ]
     },
     "execution_count": 196,
     "metadata": {},
     "output_type": "execute_result"
    }
   ],
   "source": [
    "model.similarity('family', 'daughter')"
   ]
  },
  {
   "cell_type": "code",
   "execution_count": 198,
   "metadata": {
    "collapsed": false
   },
   "outputs": [
    {
     "data": {
      "text/plain": [
       "0.42759598757792727"
      ]
     },
     "execution_count": 198,
     "metadata": {},
     "output_type": "execute_result"
    }
   ],
   "source": [
    "model.similarity('death', 'little')"
   ]
  },
  {
   "cell_type": "code",
   "execution_count": 199,
   "metadata": {
    "collapsed": false
   },
   "outputs": [
    {
     "data": {
      "text/plain": [
       "0.53739901863610628"
      ]
     },
     "execution_count": 199,
     "metadata": {},
     "output_type": "execute_result"
    }
   ],
   "source": [
    "model.similarity('one', 'single')"
   ]
  },
  {
   "cell_type": "markdown",
   "metadata": {},
   "source": [
    "## Testing doesnt match"
   ]
  },
  {
   "cell_type": "code",
   "execution_count": 214,
   "metadata": {
    "collapsed": false
   },
   "outputs": [
    {
     "data": {
      "text/plain": [
       "'till'"
      ]
     },
     "execution_count": 214,
     "metadata": {},
     "output_type": "execute_result"
    }
   ],
   "source": [
    "model.doesnt_match('man woman till girl'.split())          #testing the doesnt_match function"
   ]
  },
  {
   "cell_type": "code",
   "execution_count": 215,
   "metadata": {
    "collapsed": false
   },
   "outputs": [
    {
     "data": {
      "text/plain": [
       "'till'"
      ]
     },
     "execution_count": 215,
     "metadata": {},
     "output_type": "execute_result"
    }
   ],
   "source": [
    "model.doesnt_match('man world till'.split())"
   ]
  },
  {
   "cell_type": "code",
   "execution_count": 216,
   "metadata": {
    "collapsed": false
   },
   "outputs": [
    {
     "data": {
      "text/plain": [
       "'girl'"
      ]
     },
     "execution_count": 216,
     "metadata": {},
     "output_type": "execute_result"
    }
   ],
   "source": [
    "model.doesnt_match('man woman girl'.split())"
   ]
  },
  {
   "cell_type": "code",
   "execution_count": 218,
   "metadata": {
    "collapsed": false
   },
   "outputs": [
    {
     "data": {
      "text/plain": [
       "'love'"
      ]
     },
     "execution_count": 218,
     "metadata": {},
     "output_type": "execute_result"
    }
   ],
   "source": [
    "model.doesnt_match('earth saturn love'.split())"
   ]
  },
  {
   "cell_type": "code",
   "execution_count": 219,
   "metadata": {
    "collapsed": false
   },
   "outputs": [
    {
     "data": {
      "text/plain": [
       "'men'"
      ]
     },
     "execution_count": 219,
     "metadata": {},
     "output_type": "execute_result"
    }
   ],
   "source": [
    "model.doesnt_match('mars jupiter men'.split())"
   ]
  },
  {
   "cell_type": "markdown",
   "metadata": {},
   "source": [
    "# Testing most similarity"
   ]
  },
  {
   "cell_type": "code",
   "execution_count": 212,
   "metadata": {
    "collapsed": false
   },
   "outputs": [
    {
     "data": {
      "text/plain": [
       "[('interruption', 0.6156398057937622),\n",
       " ('lip', 0.5808097124099731),\n",
       " ('saying', 0.5720919370651245),\n",
       " ('speak', 0.5649688243865967),\n",
       " ('couldnot', 0.5605394244194031),\n",
       " ('valuable', 0.551924467086792),\n",
       " ('depend', 0.5424071550369263),\n",
       " ('without', 0.5264490842819214),\n",
       " ('anything', 0.525322437286377),\n",
       " ('upon', 0.5175555348396301)]"
      ]
     },
     "execution_count": 212,
     "metadata": {},
     "output_type": "execute_result"
    }
   ],
   "source": [
    "model.most_similar(\"word\")                      # testing most similiarity function"
   ]
  },
  {
   "cell_type": "code",
   "execution_count": 211,
   "metadata": {
    "collapsed": false
   },
   "outputs": [
    {
     "data": {
      "text/plain": [
       "[('visitor', 0.8308674097061157),\n",
       " ('saturday', 0.8094621896743774),\n",
       " ('sunday', 0.781827986240387),\n",
       " ('returning', 0.7711752653121948),\n",
       " ('dressing', 0.768431544303894),\n",
       " ('along', 0.7605604529380798),\n",
       " ('got', 0.7460013628005981),\n",
       " ('chaise', 0.7387632131576538),\n",
       " ('downstairs', 0.734905481338501),\n",
       " ('hastily', 0.732915461063385)]"
      ]
     },
     "execution_count": 211,
     "metadata": {},
     "output_type": "execute_result"
    }
   ],
   "source": [
    "model.most_similar(\"till\")"
   ]
  },
  {
   "cell_type": "code",
   "execution_count": 210,
   "metadata": {
    "collapsed": false
   },
   "outputs": [
    {
     "data": {
      "text/plain": [
       "[('extremely', 0.6928129196166992),\n",
       " ('boy', 0.6919894218444824),\n",
       " ('king', 0.6907191276550293),\n",
       " ('youngest', 0.6818444132804871),\n",
       " ('tall', 0.6741129159927368),\n",
       " ('younger', 0.6674612760543823),\n",
       " ('neighbourhood', 0.6519386768341064),\n",
       " ('son', 0.6438463926315308),\n",
       " ('married', 0.6389352679252625),\n",
       " ('sixteen', 0.6349356770515442)]"
      ]
     },
     "execution_count": 210,
     "metadata": {},
     "output_type": "execute_result"
    }
   ],
   "source": [
    "model.most_similar(\"girl\")"
   ]
  },
  {
   "cell_type": "code",
   "execution_count": 201,
   "metadata": {
    "collapsed": false
   },
   "outputs": [
    {
     "data": {
      "text/plain": [
       "[('woman', 0.887626051902771),\n",
       " ('men', 0.7938704490661621),\n",
       " ('person', 0.771087646484375),\n",
       " ('accomplished', 0.7617754340171814),\n",
       " ('totally', 0.7365685701370239),\n",
       " ('fortune', 0.7360684871673584),\n",
       " ('feature', 0.7358312606811523),\n",
       " ('people', 0.7333755493164062),\n",
       " ('represented', 0.7166950106620789),\n",
       " ('influence', 0.7125266194343567)]"
      ]
     },
     "execution_count": 201,
     "metadata": {},
     "output_type": "execute_result"
    }
   ],
   "source": [
    "model.most_similar(\"man\")"
   ]
  },
  {
   "cell_type": "code",
   "execution_count": 202,
   "metadata": {
    "collapsed": false
   },
   "outputs": [
    {
     "data": {
      "text/plain": [
       "[('married', 0.6512598991394043),\n",
       " ('get', 0.6474043130874634),\n",
       " ('glad', 0.6298869848251343),\n",
       " ('introduce', 0.6025815010070801),\n",
       " ('ball', 0.5817509889602661),\n",
       " ('fond', 0.5778319835662842),\n",
       " ('jones', 0.5764567852020264),\n",
       " ('going', 0.5746958255767822),\n",
       " ('unless', 0.5700502395629883),\n",
       " ('fun', 0.5680896043777466)]"
      ]
     },
     "execution_count": 202,
     "metadata": {},
     "output_type": "execute_result"
    }
   ],
   "source": [
    "model.most_similar(positive=['husband','man'], negative=['woman'])"
   ]
  },
  {
   "cell_type": "code",
   "execution_count": 203,
   "metadata": {
    "collapsed": true
   },
   "outputs": [],
   "source": [
    "from gensim.models import Word2Vec\n",
    "# Load the trained modelNumeric Representations of Words\n",
    "model = Word2Vec.load(\"500features_5minwords_4context\")"
   ]
  },
  {
   "cell_type": "code",
   "execution_count": 205,
   "metadata": {
    "collapsed": false
   },
   "outputs": [
    {
     "data": {
      "text/plain": [
       "numpy.ndarray"
      ]
     },
     "execution_count": 205,
     "metadata": {},
     "output_type": "execute_result"
    }
   ],
   "source": [
    "type(model.wv.syn0)"
   ]
  },
  {
   "cell_type": "code",
   "execution_count": 206,
   "metadata": {
    "collapsed": false
   },
   "outputs": [
    {
     "data": {
      "text/plain": [
       "(1745, 500)"
      ]
     },
     "execution_count": 206,
     "metadata": {},
     "output_type": "execute_result"
    }
   ],
   "source": [
    "model.wv.syn0.shape"
   ]
  },
  {
   "cell_type": "code",
   "execution_count": 207,
   "metadata": {
    "collapsed": false
   },
   "outputs": [
    {
     "data": {
      "text/plain": [
       "5370"
      ]
     },
     "execution_count": 207,
     "metadata": {},
     "output_type": "execute_result"
    }
   ],
   "source": [
    "model.corpus_count"
   ]
  },
  {
   "cell_type": "code",
   "execution_count": 222,
   "metadata": {
    "collapsed": false
   },
   "outputs": [
    {
     "data": {
      "text/plain": [
       "array([-0.36131841, -0.81537086, -0.14247836,  0.39211252,  0.67789811,\n",
       "       -0.16140679, -0.01138907,  0.01033306, -0.29547125, -0.22973739,\n",
       "        0.02962612,  0.13183831,  0.06549638,  0.20820524,  0.30978179,\n",
       "        0.85709476,  0.38575253,  0.38823771, -0.40243593,  0.59000969,\n",
       "       -0.28920507, -0.25811753, -0.37567407,  0.36098748, -0.65972841,\n",
       "       -0.3891885 ,  0.31896496, -0.05828851,  0.2915715 ,  0.09568696,\n",
       "        0.25175041, -0.24978305,  0.01890122, -0.01794224, -0.15193026,\n",
       "       -0.14454165, -0.54817426,  0.29016849,  0.28115851, -0.39148074,\n",
       "       -0.40037295, -0.30560145,  0.16964601, -0.06035028,  0.41267678,\n",
       "        0.13714166,  0.44918919, -0.2703504 ,  0.22741243, -0.66906238,\n",
       "       -0.23391968, -0.40851006, -0.14068617, -0.17025027, -0.00417723,\n",
       "        0.53270048,  0.25812277,  0.06497595,  0.16823198,  0.07536516,\n",
       "        0.15021773, -0.02742549, -0.79093271,  0.17253868, -0.70680702,\n",
       "        0.42492446, -0.54496932,  0.78393608,  0.04746826, -0.18039533,\n",
       "        0.29569155, -0.07281599, -0.5446825 ,  0.51184595, -0.38019705,\n",
       "       -0.54313326, -0.1414776 ,  0.07195711, -0.53839761, -0.51969749,\n",
       "        0.16120894,  0.54519916, -0.24231212,  0.00405856,  0.48176482,\n",
       "       -0.02169581,  0.03992545,  0.51826322, -0.92022479,  0.21091042,\n",
       "        0.44606969, -0.20751034,  0.3058134 , -0.02795394,  0.13164952,\n",
       "        0.06255103,  1.03220439, -0.1205202 , -0.21510601,  0.21249849,\n",
       "       -0.17529482,  0.08508491,  0.24622636, -0.23362757, -0.09511322,\n",
       "       -0.24387728,  0.11815002, -0.13266572, -0.19686501,  0.53332841,\n",
       "        0.19245046, -0.0607959 ,  0.47228292,  0.13101438, -0.67325217,\n",
       "       -0.07605772,  0.30890867, -0.64477909, -0.58101964,  0.09072868,\n",
       "        0.13914546, -0.13146508,  0.4461911 , -0.33881763, -0.16286846,\n",
       "       -0.32358593, -0.38770261,  0.47861293, -0.26770172,  0.41678846,\n",
       "       -0.58295786, -0.60763842,  0.19970289, -0.19596682,  0.12441181,\n",
       "        0.0323737 ,  0.54600024, -0.57564962,  0.10649334, -0.16909705,\n",
       "       -0.55894494,  0.45495984, -0.41831335, -0.80429173,  0.65264791,\n",
       "       -0.28545588, -0.02439761, -0.22761515,  0.3278051 , -0.37033904,\n",
       "       -0.41414964,  0.50921184,  0.0052586 ,  0.01735874,  0.29960802,\n",
       "       -0.08225045,  0.71502542, -0.43959057, -0.49706721, -0.38937426,\n",
       "       -0.47652239, -0.0124234 , -0.22819029,  0.14861131, -0.41624892,\n",
       "       -0.00778154, -0.05907903, -0.74386489, -0.01342229,  0.32632887,\n",
       "        0.16554874,  0.5433858 , -0.2417796 ,  0.22275017, -0.2600103 ,\n",
       "        0.37544876,  0.07869284, -0.24282809,  0.39000651,  0.00376169,\n",
       "        0.06535203,  0.09620272, -0.01173987, -0.45287457,  0.37429756,\n",
       "       -0.46726507, -0.05279296,  0.24316667, -0.40264988, -0.36368397,\n",
       "       -0.28816518,  0.12158279, -0.3097735 , -0.2801879 , -0.27065518,\n",
       "        0.30796325, -0.40577078,  0.61406475, -0.6831091 , -0.02018154,\n",
       "        0.60186452,  0.22601482,  0.44866815,  0.22985889,  0.21776053,\n",
       "       -0.75227779,  0.34846324,  0.46413699, -0.21622343,  0.54938543,\n",
       "       -0.0130797 ,  0.16972749, -0.55898499, -0.29533601,  0.05459405,\n",
       "       -0.33562914,  0.30276883, -0.06914519, -0.56608152,  0.51404822,\n",
       "       -0.44519827,  0.24248789, -0.06570006, -0.07918643, -0.1334541 ,\n",
       "        0.21103415,  0.12215297, -0.19623843, -0.34800202, -0.74389756,\n",
       "       -0.30310503, -0.33615756, -0.96146774,  0.17207111, -0.5757522 ,\n",
       "       -0.39796826,  0.72771055, -0.55916393,  0.12587126,  0.26840678,\n",
       "        0.6337567 ,  0.08859925,  0.148268  ,  0.30632418,  0.13661888,\n",
       "       -0.2492343 ,  0.13723318, -0.3702246 ,  0.10439617,  0.24387933,\n",
       "       -0.63117468, -0.01542377, -0.40526405, -0.40368968, -1.05680442,\n",
       "        0.21482688, -0.57698154, -0.65266013,  0.28966221, -0.21186522,\n",
       "        0.08517441, -0.55759621,  0.02645321, -0.01504042, -0.03521159,\n",
       "       -0.07465204,  0.16897073, -0.79722196, -0.18660906, -0.33124536,\n",
       "       -0.41725317,  0.1198639 , -0.07726113, -0.15649985,  0.68150753,\n",
       "       -0.58413076, -0.31683204, -0.58914775,  0.0570008 ,  0.28481019,\n",
       "        0.36722791,  0.53041536,  0.13839914, -0.89093578, -0.04445426,\n",
       "       -0.0276275 ,  0.35960436,  0.13057745,  0.5768699 , -0.4741824 ,\n",
       "       -0.46419981,  0.811611  , -0.70431256,  0.09593581,  0.22502244,\n",
       "       -0.37145814,  0.48077637,  0.3593035 , -0.07142085, -0.15791604,\n",
       "        0.33894181,  0.26249513,  0.19136909,  0.10115989,  0.22937097,\n",
       "       -0.68275553,  0.48595285,  0.20300514,  0.08787651, -0.04054047,\n",
       "       -0.02622234, -0.44171828,  0.35823819,  0.47301382,  0.83285666,\n",
       "        0.20468937,  0.18472515,  0.30391049, -0.19440053, -0.55277187,\n",
       "        0.43362552,  0.53684664,  0.68846488,  0.28765711,  0.60860521,\n",
       "       -0.32707554,  0.53808063,  0.73216933, -0.15176536,  0.44916379,\n",
       "        0.24694398, -0.6193369 , -0.24181071, -0.64801538,  0.37589681,\n",
       "       -0.51877975,  0.35359213, -0.02054842, -0.03415631,  0.17217858,\n",
       "        0.33844042,  0.02994165, -0.14739253, -0.08232071,  0.20823087,\n",
       "        0.25564733,  0.49581638,  0.4747532 , -0.08620925, -0.21213712,\n",
       "       -0.3765552 ,  0.38419053,  0.44213057, -0.06189511,  0.0199925 ,\n",
       "       -0.29653957,  0.04398991, -0.23155023,  0.15310201,  0.10396273,\n",
       "       -0.43890294,  0.26501468, -0.82418698,  0.50543898,  0.43650442,\n",
       "       -0.27843693,  0.13616735, -0.49519956, -0.18475747,  0.24686176,\n",
       "        0.87362731, -0.03250649, -0.03909804, -0.1610322 , -0.29985636,\n",
       "       -0.59674621, -0.47905675,  0.14057131, -0.59948623, -0.14189531,\n",
       "        0.07213002, -0.66520989,  0.43699163,  0.29578248,  0.0181347 ,\n",
       "        0.49635869, -0.38587761, -0.48683646, -0.4439376 , -0.23679814,\n",
       "        0.18702626, -0.86374813,  0.2842651 ,  0.73131645,  0.00426252,\n",
       "       -0.12041615, -0.05971851, -0.25646549, -0.12745363,  0.04175654,\n",
       "        0.25338331, -0.05770708, -0.20822242,  0.54624611,  0.43333668,\n",
       "       -0.5435555 ,  0.23980676,  0.84105128,  0.47384295,  0.1690371 ,\n",
       "        0.07574709,  0.38570043, -0.06625856,  0.15711325,  0.02820827,\n",
       "        0.02961815,  0.15444414,  0.38814679,  0.29755315,  0.70755893,\n",
       "       -0.42451009,  0.18820164,  0.09770755,  0.25518864,  0.03215542,\n",
       "        0.45199692, -1.03119564,  0.04899895,  0.50513148,  0.76385403,\n",
       "       -0.50942564,  0.16236319,  0.22679877,  0.06332446,  0.16052115,\n",
       "        0.39100364, -0.17673552,  0.07407437,  0.26175806, -0.57564676,\n",
       "       -0.04702413, -0.39528722, -0.51664233, -0.10640174,  0.29962358,\n",
       "        0.09751961, -0.68956435, -0.1711015 , -0.52102703,  0.43759724,\n",
       "        0.07690743, -0.75490147,  0.10242581, -0.20365691,  0.83022535,\n",
       "       -0.17743511, -0.25539714,  0.28768802,  0.4725607 ,  0.4500272 ,\n",
       "        0.36765924,  0.14631568, -0.52226913, -0.2123967 ,  0.57950234,\n",
       "        0.47043002,  0.25739983,  0.40586847,  0.74589974, -0.27659285,\n",
       "       -0.48387796, -0.01671183, -0.2300456 ,  0.38621721, -0.4131543 ,\n",
       "       -0.32547978, -0.02528541, -0.56308979,  0.05565359,  0.6126489 ,\n",
       "       -0.07692251, -0.43230498, -0.40006331, -0.16581194, -0.11961689,\n",
       "       -0.12421443,  0.12516969, -0.09901815,  0.81842345,  0.3991538 ,\n",
       "        0.13727033,  0.24028434,  0.43191049,  0.2564995 ,  0.17429842,\n",
       "       -0.9300347 ,  0.2231546 ,  0.21435894,  0.26909477, -0.12813486], dtype=float32)"
      ]
     },
     "execution_count": 222,
     "metadata": {},
     "output_type": "execute_result"
    }
   ],
   "source": [
    "model['man']"
   ]
  },
  {
   "cell_type": "code",
   "execution_count": 208,
   "metadata": {
    "collapsed": false
   },
   "outputs": [
    {
     "name": "stdout",
     "output_type": "stream",
     "text": [
      "Vocab length: 1745\n"
     ]
    }
   ],
   "source": [
    "# Get vocabulary count of the model\n",
    "vocab_tmp = list(model.wv.vocab)\n",
    "print('Vocab length:',len(vocab_tmp))\n",
    "\n",
    "# Get distributional representation of each word\n",
    "X = model[vocab_tmp]\n"
   ]
  },
  {
   "cell_type": "code",
   "execution_count": 209,
   "metadata": {
    "collapsed": false
   },
   "outputs": [
    {
     "data": {
      "image/png": "[encoded data removed]",
      "text/plain": [
       "<matplotlib.figure.Figure at 0x2901dbfb208>"
      ]
     },
     "metadata": {},
     "output_type": "display_data"
    }
   ],
   "source": [
    "from sklearn import decomposition\n",
    "# get two principle components of the feature space\n",
    "pca= decomposition.PCA(n_components=2).fit_transform(X)\n",
    "\n",
    "# set figure settings\n",
    "plt.figure(figsize=(10,10),dpi=100)\n",
    "\n",
    "# save pca values and vocab in dataframe df\n",
    "df = pd.concat([pd.DataFrame(pca),pd.Series(vocab_tmp)],axis=1)\n",
    "df.columns = ['x', 'y', 'word']\n",
    "\n",
    "\n",
    "\n",
    "plt.xlabel(\"Ist principal component\")\n",
    "plt.ylabel('2nd principal component')\n",
    "\n",
    "\n",
    "plt.scatter(x=pca[:, 0], y=pca[:, 1],s=3)\n",
    "for i, word in enumerate(df['word'][0:100]):\n",
    "    plt.annotate(word, (df['x'].iloc[i], df['y'].iloc[i]))\n",
    "plt.title(\"PCA Embedding\")\n",
    "plt.show()                                      #plotting the PCA Embedding graph\n"
   ]
  }
 ],
 "metadata": {
  "anaconda-cloud": {},
  "kernelspec": {
   "display_name": "Python [conda env:Anaconda3]",
   "language": "python",
   "name": "conda-env-Anaconda3-py"
  },
  "language_info": {
   "codemirror_mode": {
    "name": "ipython",
    "version": 3
   },
   "file_extension": ".py",
   "mimetype": "text/x-python",
   "name": "python",
   "nbconvert_exporter": "python",
   "pygments_lexer": "ipython3",
   "version": "3.5.2"
  }
 },
 "nbformat": 4,
 "nbformat_minor": 1
}
